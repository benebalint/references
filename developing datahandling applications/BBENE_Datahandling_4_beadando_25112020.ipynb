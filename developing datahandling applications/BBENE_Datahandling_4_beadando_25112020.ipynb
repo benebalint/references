{
 "cells": [
  {
   "cell_type": "code",
   "execution_count": 1,
   "metadata": {},
   "outputs": [],
   "source": [
    "# BBENE- GOGL11 - Datahandling 4 beadandó - 25 11 2020\n",
    "\t\n",
    "# Task:\n",
    "# 9., Data munging with learning: on lab_5 data \n",
    "\n",
    "# - mix the training and testing data\n",
    "# - separate data into three subset automatically and randonly (results of repeadet run may give different subsets): train, test, blind(rows with missing data)\n",
    "# - data munging: fix data extremums with data transformation (visualizsation also necessary)\n",
    "# - fill all the missing data with learning\n",
    "# - apply K-fold cross validation with graph visualization during learning\n",
    "# - try to relearned original target and compare the new results with the original performances\n",
    "# - apply different learning models for fill the data and learned the original target\n",
    "# - improve the final performance with choosing the best combination of the learning models (data munging and re-learning) and parameter tunning\n"
   ]
  },
  {
   "cell_type": "code",
   "execution_count": 2,
   "metadata": {},
   "outputs": [],
   "source": [
    "import pandas as pd\n",
    "import numpy as np\n",
    "import os\n",
    "import matplotlib as plt\n",
    "%matplotlib inline\n",
    "\n",
    "\n",
    "\n",
    "#Load the data\n",
    "train = pd.read_csv(\"train.csv\")\n",
    "test = pd.read_csv(\"test.csv\")"
   ]
  },
  {
   "cell_type": "code",
   "execution_count": 3,
   "metadata": {},
   "outputs": [
    {
     "data": {
      "text/html": [
       "<div>\n",
       "<style scoped>\n",
       "    .dataframe tbody tr th:only-of-type {\n",
       "        vertical-align: middle;\n",
       "    }\n",
       "\n",
       "    .dataframe tbody tr th {\n",
       "        vertical-align: top;\n",
       "    }\n",
       "\n",
       "    .dataframe thead th {\n",
       "        text-align: right;\n",
       "    }\n",
       "</style>\n",
       "<table border=\"1\" class=\"dataframe\">\n",
       "  <thead>\n",
       "    <tr style=\"text-align: right;\">\n",
       "      <th></th>\n",
       "      <th>Loan_ID</th>\n",
       "      <th>Gender</th>\n",
       "      <th>Married</th>\n",
       "      <th>Dependents</th>\n",
       "      <th>Education</th>\n",
       "      <th>Self_Employed</th>\n",
       "      <th>ApplicantIncome</th>\n",
       "      <th>CoapplicantIncome</th>\n",
       "      <th>LoanAmount</th>\n",
       "      <th>Loan_Amount_Term</th>\n",
       "      <th>Credit_History</th>\n",
       "      <th>Property_Area</th>\n",
       "      <th>Loan_Status</th>\n",
       "    </tr>\n",
       "  </thead>\n",
       "  <tbody>\n",
       "    <tr>\n",
       "      <th>0</th>\n",
       "      <td>LP001002</td>\n",
       "      <td>Male</td>\n",
       "      <td>No</td>\n",
       "      <td>0</td>\n",
       "      <td>Graduate</td>\n",
       "      <td>No</td>\n",
       "      <td>5849</td>\n",
       "      <td>0.0</td>\n",
       "      <td>NaN</td>\n",
       "      <td>360.0</td>\n",
       "      <td>1.0</td>\n",
       "      <td>Urban</td>\n",
       "      <td>Y</td>\n",
       "    </tr>\n",
       "    <tr>\n",
       "      <th>1</th>\n",
       "      <td>LP001003</td>\n",
       "      <td>Male</td>\n",
       "      <td>Yes</td>\n",
       "      <td>1</td>\n",
       "      <td>Graduate</td>\n",
       "      <td>No</td>\n",
       "      <td>4583</td>\n",
       "      <td>1508.0</td>\n",
       "      <td>128.0</td>\n",
       "      <td>360.0</td>\n",
       "      <td>1.0</td>\n",
       "      <td>Rural</td>\n",
       "      <td>N</td>\n",
       "    </tr>\n",
       "    <tr>\n",
       "      <th>2</th>\n",
       "      <td>LP001005</td>\n",
       "      <td>Male</td>\n",
       "      <td>Yes</td>\n",
       "      <td>0</td>\n",
       "      <td>Graduate</td>\n",
       "      <td>Yes</td>\n",
       "      <td>3000</td>\n",
       "      <td>0.0</td>\n",
       "      <td>66.0</td>\n",
       "      <td>360.0</td>\n",
       "      <td>1.0</td>\n",
       "      <td>Urban</td>\n",
       "      <td>Y</td>\n",
       "    </tr>\n",
       "    <tr>\n",
       "      <th>3</th>\n",
       "      <td>LP001006</td>\n",
       "      <td>Male</td>\n",
       "      <td>Yes</td>\n",
       "      <td>0</td>\n",
       "      <td>Not Graduate</td>\n",
       "      <td>No</td>\n",
       "      <td>2583</td>\n",
       "      <td>2358.0</td>\n",
       "      <td>120.0</td>\n",
       "      <td>360.0</td>\n",
       "      <td>1.0</td>\n",
       "      <td>Urban</td>\n",
       "      <td>Y</td>\n",
       "    </tr>\n",
       "    <tr>\n",
       "      <th>4</th>\n",
       "      <td>LP001008</td>\n",
       "      <td>Male</td>\n",
       "      <td>No</td>\n",
       "      <td>0</td>\n",
       "      <td>Graduate</td>\n",
       "      <td>No</td>\n",
       "      <td>6000</td>\n",
       "      <td>0.0</td>\n",
       "      <td>141.0</td>\n",
       "      <td>360.0</td>\n",
       "      <td>1.0</td>\n",
       "      <td>Urban</td>\n",
       "      <td>Y</td>\n",
       "    </tr>\n",
       "    <tr>\n",
       "      <th>5</th>\n",
       "      <td>LP001011</td>\n",
       "      <td>Male</td>\n",
       "      <td>Yes</td>\n",
       "      <td>2</td>\n",
       "      <td>Graduate</td>\n",
       "      <td>Yes</td>\n",
       "      <td>5417</td>\n",
       "      <td>4196.0</td>\n",
       "      <td>267.0</td>\n",
       "      <td>360.0</td>\n",
       "      <td>1.0</td>\n",
       "      <td>Urban</td>\n",
       "      <td>Y</td>\n",
       "    </tr>\n",
       "    <tr>\n",
       "      <th>6</th>\n",
       "      <td>LP001013</td>\n",
       "      <td>Male</td>\n",
       "      <td>Yes</td>\n",
       "      <td>0</td>\n",
       "      <td>Not Graduate</td>\n",
       "      <td>No</td>\n",
       "      <td>2333</td>\n",
       "      <td>1516.0</td>\n",
       "      <td>95.0</td>\n",
       "      <td>360.0</td>\n",
       "      <td>1.0</td>\n",
       "      <td>Urban</td>\n",
       "      <td>Y</td>\n",
       "    </tr>\n",
       "    <tr>\n",
       "      <th>7</th>\n",
       "      <td>LP001014</td>\n",
       "      <td>Male</td>\n",
       "      <td>Yes</td>\n",
       "      <td>3+</td>\n",
       "      <td>Graduate</td>\n",
       "      <td>No</td>\n",
       "      <td>3036</td>\n",
       "      <td>2504.0</td>\n",
       "      <td>158.0</td>\n",
       "      <td>360.0</td>\n",
       "      <td>0.0</td>\n",
       "      <td>Semiurban</td>\n",
       "      <td>N</td>\n",
       "    </tr>\n",
       "    <tr>\n",
       "      <th>8</th>\n",
       "      <td>LP001018</td>\n",
       "      <td>Male</td>\n",
       "      <td>Yes</td>\n",
       "      <td>2</td>\n",
       "      <td>Graduate</td>\n",
       "      <td>No</td>\n",
       "      <td>4006</td>\n",
       "      <td>1526.0</td>\n",
       "      <td>168.0</td>\n",
       "      <td>360.0</td>\n",
       "      <td>1.0</td>\n",
       "      <td>Urban</td>\n",
       "      <td>Y</td>\n",
       "    </tr>\n",
       "    <tr>\n",
       "      <th>9</th>\n",
       "      <td>LP001020</td>\n",
       "      <td>Male</td>\n",
       "      <td>Yes</td>\n",
       "      <td>1</td>\n",
       "      <td>Graduate</td>\n",
       "      <td>No</td>\n",
       "      <td>12841</td>\n",
       "      <td>10968.0</td>\n",
       "      <td>349.0</td>\n",
       "      <td>360.0</td>\n",
       "      <td>1.0</td>\n",
       "      <td>Semiurban</td>\n",
       "      <td>N</td>\n",
       "    </tr>\n",
       "  </tbody>\n",
       "</table>\n",
       "</div>"
      ],
      "text/plain": [
       "    Loan_ID Gender Married Dependents     Education Self_Employed  \\\n",
       "0  LP001002   Male      No          0      Graduate            No   \n",
       "1  LP001003   Male     Yes          1      Graduate            No   \n",
       "2  LP001005   Male     Yes          0      Graduate           Yes   \n",
       "3  LP001006   Male     Yes          0  Not Graduate            No   \n",
       "4  LP001008   Male      No          0      Graduate            No   \n",
       "5  LP001011   Male     Yes          2      Graduate           Yes   \n",
       "6  LP001013   Male     Yes          0  Not Graduate            No   \n",
       "7  LP001014   Male     Yes         3+      Graduate            No   \n",
       "8  LP001018   Male     Yes          2      Graduate            No   \n",
       "9  LP001020   Male     Yes          1      Graduate            No   \n",
       "\n",
       "   ApplicantIncome  CoapplicantIncome  LoanAmount  Loan_Amount_Term  \\\n",
       "0             5849                0.0         NaN             360.0   \n",
       "1             4583             1508.0       128.0             360.0   \n",
       "2             3000                0.0        66.0             360.0   \n",
       "3             2583             2358.0       120.0             360.0   \n",
       "4             6000                0.0       141.0             360.0   \n",
       "5             5417             4196.0       267.0             360.0   \n",
       "6             2333             1516.0        95.0             360.0   \n",
       "7             3036             2504.0       158.0             360.0   \n",
       "8             4006             1526.0       168.0             360.0   \n",
       "9            12841            10968.0       349.0             360.0   \n",
       "\n",
       "   Credit_History Property_Area Loan_Status  \n",
       "0             1.0         Urban           Y  \n",
       "1             1.0         Rural           N  \n",
       "2             1.0         Urban           Y  \n",
       "3             1.0         Urban           Y  \n",
       "4             1.0         Urban           Y  \n",
       "5             1.0         Urban           Y  \n",
       "6             1.0         Urban           Y  \n",
       "7             0.0     Semiurban           N  \n",
       "8             1.0         Urban           Y  \n",
       "9             1.0     Semiurban           N  "
      ]
     },
     "execution_count": 3,
     "metadata": {},
     "output_type": "execute_result"
    }
   ],
   "source": [
    "train.head(10)"
   ]
  },
  {
   "cell_type": "code",
   "execution_count": 4,
   "metadata": {},
   "outputs": [
    {
     "data": {
      "text/html": [
       "<div>\n",
       "<style scoped>\n",
       "    .dataframe tbody tr th:only-of-type {\n",
       "        vertical-align: middle;\n",
       "    }\n",
       "\n",
       "    .dataframe tbody tr th {\n",
       "        vertical-align: top;\n",
       "    }\n",
       "\n",
       "    .dataframe thead th {\n",
       "        text-align: right;\n",
       "    }\n",
       "</style>\n",
       "<table border=\"1\" class=\"dataframe\">\n",
       "  <thead>\n",
       "    <tr style=\"text-align: right;\">\n",
       "      <th></th>\n",
       "      <th>Loan_ID</th>\n",
       "      <th>Gender</th>\n",
       "      <th>Married</th>\n",
       "      <th>Dependents</th>\n",
       "      <th>Education</th>\n",
       "      <th>Self_Employed</th>\n",
       "      <th>ApplicantIncome</th>\n",
       "      <th>CoapplicantIncome</th>\n",
       "      <th>LoanAmount</th>\n",
       "      <th>Loan_Amount_Term</th>\n",
       "      <th>Credit_History</th>\n",
       "      <th>Property_Area</th>\n",
       "    </tr>\n",
       "  </thead>\n",
       "  <tbody>\n",
       "    <tr>\n",
       "      <th>0</th>\n",
       "      <td>LP001015</td>\n",
       "      <td>Male</td>\n",
       "      <td>Yes</td>\n",
       "      <td>0</td>\n",
       "      <td>Graduate</td>\n",
       "      <td>No</td>\n",
       "      <td>5720</td>\n",
       "      <td>0</td>\n",
       "      <td>110.0</td>\n",
       "      <td>360.0</td>\n",
       "      <td>1.0</td>\n",
       "      <td>Urban</td>\n",
       "    </tr>\n",
       "    <tr>\n",
       "      <th>1</th>\n",
       "      <td>LP001022</td>\n",
       "      <td>Male</td>\n",
       "      <td>Yes</td>\n",
       "      <td>1</td>\n",
       "      <td>Graduate</td>\n",
       "      <td>No</td>\n",
       "      <td>3076</td>\n",
       "      <td>1500</td>\n",
       "      <td>126.0</td>\n",
       "      <td>360.0</td>\n",
       "      <td>1.0</td>\n",
       "      <td>Urban</td>\n",
       "    </tr>\n",
       "    <tr>\n",
       "      <th>2</th>\n",
       "      <td>LP001031</td>\n",
       "      <td>Male</td>\n",
       "      <td>Yes</td>\n",
       "      <td>2</td>\n",
       "      <td>Graduate</td>\n",
       "      <td>No</td>\n",
       "      <td>5000</td>\n",
       "      <td>1800</td>\n",
       "      <td>208.0</td>\n",
       "      <td>360.0</td>\n",
       "      <td>1.0</td>\n",
       "      <td>Urban</td>\n",
       "    </tr>\n",
       "    <tr>\n",
       "      <th>3</th>\n",
       "      <td>LP001035</td>\n",
       "      <td>Male</td>\n",
       "      <td>Yes</td>\n",
       "      <td>2</td>\n",
       "      <td>Graduate</td>\n",
       "      <td>No</td>\n",
       "      <td>2340</td>\n",
       "      <td>2546</td>\n",
       "      <td>100.0</td>\n",
       "      <td>360.0</td>\n",
       "      <td>NaN</td>\n",
       "      <td>Urban</td>\n",
       "    </tr>\n",
       "    <tr>\n",
       "      <th>4</th>\n",
       "      <td>LP001051</td>\n",
       "      <td>Male</td>\n",
       "      <td>No</td>\n",
       "      <td>0</td>\n",
       "      <td>Not Graduate</td>\n",
       "      <td>No</td>\n",
       "      <td>3276</td>\n",
       "      <td>0</td>\n",
       "      <td>78.0</td>\n",
       "      <td>360.0</td>\n",
       "      <td>1.0</td>\n",
       "      <td>Urban</td>\n",
       "    </tr>\n",
       "    <tr>\n",
       "      <th>5</th>\n",
       "      <td>LP001054</td>\n",
       "      <td>Male</td>\n",
       "      <td>Yes</td>\n",
       "      <td>0</td>\n",
       "      <td>Not Graduate</td>\n",
       "      <td>Yes</td>\n",
       "      <td>2165</td>\n",
       "      <td>3422</td>\n",
       "      <td>152.0</td>\n",
       "      <td>360.0</td>\n",
       "      <td>1.0</td>\n",
       "      <td>Urban</td>\n",
       "    </tr>\n",
       "    <tr>\n",
       "      <th>6</th>\n",
       "      <td>LP001055</td>\n",
       "      <td>Female</td>\n",
       "      <td>No</td>\n",
       "      <td>1</td>\n",
       "      <td>Not Graduate</td>\n",
       "      <td>No</td>\n",
       "      <td>2226</td>\n",
       "      <td>0</td>\n",
       "      <td>59.0</td>\n",
       "      <td>360.0</td>\n",
       "      <td>1.0</td>\n",
       "      <td>Semiurban</td>\n",
       "    </tr>\n",
       "    <tr>\n",
       "      <th>7</th>\n",
       "      <td>LP001056</td>\n",
       "      <td>Male</td>\n",
       "      <td>Yes</td>\n",
       "      <td>2</td>\n",
       "      <td>Not Graduate</td>\n",
       "      <td>No</td>\n",
       "      <td>3881</td>\n",
       "      <td>0</td>\n",
       "      <td>147.0</td>\n",
       "      <td>360.0</td>\n",
       "      <td>0.0</td>\n",
       "      <td>Rural</td>\n",
       "    </tr>\n",
       "    <tr>\n",
       "      <th>8</th>\n",
       "      <td>LP001059</td>\n",
       "      <td>Male</td>\n",
       "      <td>Yes</td>\n",
       "      <td>2</td>\n",
       "      <td>Graduate</td>\n",
       "      <td>NaN</td>\n",
       "      <td>13633</td>\n",
       "      <td>0</td>\n",
       "      <td>280.0</td>\n",
       "      <td>240.0</td>\n",
       "      <td>1.0</td>\n",
       "      <td>Urban</td>\n",
       "    </tr>\n",
       "    <tr>\n",
       "      <th>9</th>\n",
       "      <td>LP001067</td>\n",
       "      <td>Male</td>\n",
       "      <td>No</td>\n",
       "      <td>0</td>\n",
       "      <td>Not Graduate</td>\n",
       "      <td>No</td>\n",
       "      <td>2400</td>\n",
       "      <td>2400</td>\n",
       "      <td>123.0</td>\n",
       "      <td>360.0</td>\n",
       "      <td>1.0</td>\n",
       "      <td>Semiurban</td>\n",
       "    </tr>\n",
       "  </tbody>\n",
       "</table>\n",
       "</div>"
      ],
      "text/plain": [
       "    Loan_ID  Gender Married Dependents     Education Self_Employed  \\\n",
       "0  LP001015    Male     Yes          0      Graduate            No   \n",
       "1  LP001022    Male     Yes          1      Graduate            No   \n",
       "2  LP001031    Male     Yes          2      Graduate            No   \n",
       "3  LP001035    Male     Yes          2      Graduate            No   \n",
       "4  LP001051    Male      No          0  Not Graduate            No   \n",
       "5  LP001054    Male     Yes          0  Not Graduate           Yes   \n",
       "6  LP001055  Female      No          1  Not Graduate            No   \n",
       "7  LP001056    Male     Yes          2  Not Graduate            No   \n",
       "8  LP001059    Male     Yes          2      Graduate           NaN   \n",
       "9  LP001067    Male      No          0  Not Graduate            No   \n",
       "\n",
       "   ApplicantIncome  CoapplicantIncome  LoanAmount  Loan_Amount_Term  \\\n",
       "0             5720                  0       110.0             360.0   \n",
       "1             3076               1500       126.0             360.0   \n",
       "2             5000               1800       208.0             360.0   \n",
       "3             2340               2546       100.0             360.0   \n",
       "4             3276                  0        78.0             360.0   \n",
       "5             2165               3422       152.0             360.0   \n",
       "6             2226                  0        59.0             360.0   \n",
       "7             3881                  0       147.0             360.0   \n",
       "8            13633                  0       280.0             240.0   \n",
       "9             2400               2400       123.0             360.0   \n",
       "\n",
       "   Credit_History Property_Area  \n",
       "0             1.0         Urban  \n",
       "1             1.0         Urban  \n",
       "2             1.0         Urban  \n",
       "3             NaN         Urban  \n",
       "4             1.0         Urban  \n",
       "5             1.0         Urban  \n",
       "6             1.0     Semiurban  \n",
       "7             0.0         Rural  \n",
       "8             1.0         Urban  \n",
       "9             1.0     Semiurban  "
      ]
     },
     "execution_count": 4,
     "metadata": {},
     "output_type": "execute_result"
    }
   ],
   "source": [
    "test.head(10)"
   ]
  },
  {
   "cell_type": "code",
   "execution_count": 5,
   "metadata": {},
   "outputs": [
    {
     "name": "stdout",
     "output_type": "stream",
     "text": [
      "<class 'pandas.core.frame.DataFrame'>\n",
      "RangeIndex: 614 entries, 0 to 613\n",
      "Data columns (total 13 columns):\n",
      " #   Column             Non-Null Count  Dtype  \n",
      "---  ------             --------------  -----  \n",
      " 0   Loan_ID            614 non-null    object \n",
      " 1   Gender             601 non-null    object \n",
      " 2   Married            611 non-null    object \n",
      " 3   Dependents         599 non-null    object \n",
      " 4   Education          614 non-null    object \n",
      " 5   Self_Employed      582 non-null    object \n",
      " 6   ApplicantIncome    614 non-null    int64  \n",
      " 7   CoapplicantIncome  614 non-null    float64\n",
      " 8   LoanAmount         592 non-null    float64\n",
      " 9   Loan_Amount_Term   600 non-null    float64\n",
      " 10  Credit_History     564 non-null    float64\n",
      " 11  Property_Area      614 non-null    object \n",
      " 12  Loan_Status        614 non-null    object \n",
      "dtypes: float64(4), int64(1), object(8)\n",
      "memory usage: 62.5+ KB\n"
     ]
    }
   ],
   "source": [
    "train.info()"
   ]
  },
  {
   "cell_type": "code",
   "execution_count": 6,
   "metadata": {},
   "outputs": [
    {
     "name": "stdout",
     "output_type": "stream",
     "text": [
      "<class 'pandas.core.frame.DataFrame'>\n",
      "RangeIndex: 367 entries, 0 to 366\n",
      "Data columns (total 12 columns):\n",
      " #   Column             Non-Null Count  Dtype  \n",
      "---  ------             --------------  -----  \n",
      " 0   Loan_ID            367 non-null    object \n",
      " 1   Gender             356 non-null    object \n",
      " 2   Married            367 non-null    object \n",
      " 3   Dependents         357 non-null    object \n",
      " 4   Education          367 non-null    object \n",
      " 5   Self_Employed      344 non-null    object \n",
      " 6   ApplicantIncome    367 non-null    int64  \n",
      " 7   CoapplicantIncome  367 non-null    int64  \n",
      " 8   LoanAmount         362 non-null    float64\n",
      " 9   Loan_Amount_Term   361 non-null    float64\n",
      " 10  Credit_History     338 non-null    float64\n",
      " 11  Property_Area      367 non-null    object \n",
      "dtypes: float64(3), int64(2), object(7)\n",
      "memory usage: 34.5+ KB\n"
     ]
    }
   ],
   "source": [
    "test.info()"
   ]
  },
  {
   "cell_type": "code",
   "execution_count": 7,
   "metadata": {},
   "outputs": [
    {
     "name": "stdout",
     "output_type": "stream",
     "text": [
      "Loan_ID               0\n",
      "Gender               13\n",
      "Married               3\n",
      "Dependents           15\n",
      "Education             0\n",
      "Self_Employed        32\n",
      "ApplicantIncome       0\n",
      "CoapplicantIncome     0\n",
      "LoanAmount           22\n",
      "Loan_Amount_Term     14\n",
      "Credit_History       50\n",
      "Property_Area         0\n",
      "Loan_Status           0\n",
      "dtype: int64\n",
      "\n",
      "\n",
      "Loan_ID               0\n",
      "Gender               11\n",
      "Married               0\n",
      "Dependents           10\n",
      "Education             0\n",
      "Self_Employed        23\n",
      "ApplicantIncome       0\n",
      "CoapplicantIncome     0\n",
      "LoanAmount            5\n",
      "Loan_Amount_Term      6\n",
      "Credit_History       29\n",
      "Property_Area         0\n",
      "dtype: int64\n"
     ]
    }
   ],
   "source": [
    "print(train.isnull().sum())\n",
    "print(\"\\n\")\n",
    "print(test.isnull().sum())"
   ]
  },
  {
   "cell_type": "code",
   "execution_count": 8,
   "metadata": {},
   "outputs": [
    {
     "name": "stdout",
     "output_type": "stream",
     "text": [
      "<class 'pandas.core.frame.DataFrame'>\n",
      "RangeIndex: 981 entries, 0 to 980\n",
      "Data columns (total 13 columns):\n",
      " #   Column             Non-Null Count  Dtype  \n",
      "---  ------             --------------  -----  \n",
      " 0   Loan_ID            981 non-null    object \n",
      " 1   Gender             957 non-null    object \n",
      " 2   Married            978 non-null    object \n",
      " 3   Dependents         956 non-null    object \n",
      " 4   Education          981 non-null    object \n",
      " 5   Self_Employed      926 non-null    object \n",
      " 6   ApplicantIncome    981 non-null    int64  \n",
      " 7   CoapplicantIncome  981 non-null    float64\n",
      " 8   LoanAmount         954 non-null    float64\n",
      " 9   Loan_Amount_Term   961 non-null    float64\n",
      " 10  Credit_History     902 non-null    float64\n",
      " 11  Property_Area      981 non-null    object \n",
      " 12  Loan_Status        614 non-null    object \n",
      "dtypes: float64(4), int64(1), object(8)\n",
      "memory usage: 99.8+ KB\n",
      "appended isnullsum:\n",
      " Loan_ID                0\n",
      "Gender                24\n",
      "Married                3\n",
      "Dependents            25\n",
      "Education              0\n",
      "Self_Employed         55\n",
      "ApplicantIncome        0\n",
      "CoapplicantIncome      0\n",
      "LoanAmount            27\n",
      "Loan_Amount_Term      20\n",
      "Credit_History        79\n",
      "Property_Area          0\n",
      "Loan_Status          367\n",
      "dtype: int64\n"
     ]
    }
   ],
   "source": [
    "# append\n",
    "# DataFrame.append(other, ignore_index=False, verify_integrity=False, sort=False)\n",
    "# eddig ez tűnik a legjobbnak\n",
    "appended = train.append(test,ignore_index=True,verify_integrity=True,sort=False)\n",
    "appended.info()\n",
    "print(\"appended isnullsum:\\n\",appended.isnull().sum())\n",
    "# összekeverni az egyesített adatokat\n",
    "from sklearn.utils import shuffle\n",
    "\n",
    "appended = shuffle(appended)"
   ]
  },
  {
   "cell_type": "code",
   "execution_count": 9,
   "metadata": {},
   "outputs": [
    {
     "name": "stdout",
     "output_type": "stream",
     "text": [
      "      Loan_ID  Gender Married Dependents     Education Self_Employed  \\\n",
      "640  LP001163    Male     Yes          2      Graduate            No   \n",
      "736  LP001651    Male     Yes         3+      Graduate            No   \n",
      "473  LP002522  Female      No          0      Graduate           Yes   \n",
      "560  LP002807    Male     Yes          2  Not Graduate            No   \n",
      "7    LP001014    Male     Yes         3+      Graduate            No   \n",
      "\n",
      "     ApplicantIncome  CoapplicantIncome  LoanAmount  Loan_Amount_Term  \\\n",
      "640             4363             1250.0       140.0             360.0   \n",
      "736             3350             1560.0       135.0             360.0   \n",
      "473             2500                0.0        93.0             360.0   \n",
      "560             3675              242.0       108.0             360.0   \n",
      "7               3036             2504.0       158.0             360.0   \n",
      "\n",
      "     Credit_History Property_Area Loan_Status  \n",
      "640             NaN         Urban         NaN  \n",
      "736             1.0         Urban         NaN  \n",
      "473             NaN         Urban           Y  \n",
      "560             1.0     Semiurban           Y  \n",
      "7               0.0     Semiurban           N  \n",
      "\n",
      "\n",
      "appended columns: Index(['Loan_ID', 'Gender', 'Married', 'Dependents', 'Education',\n",
      "       'Self_Employed', 'ApplicantIncome', 'CoapplicantIncome', 'LoanAmount',\n",
      "       'Loan_Amount_Term', 'Credit_History', 'Property_Area', 'Loan_Status'],\n",
      "      dtype='object')\n",
      "\n",
      "\n"
     ]
    }
   ],
   "source": [
    "print(appended.head())\n",
    "print(\"\\n\")\n",
    "print(\"appended columns:\",appended.columns)\n",
    "print(\"\\n\")"
   ]
  },
  {
   "cell_type": "code",
   "execution_count": 10,
   "metadata": {},
   "outputs": [
    {
     "name": "stdout",
     "output_type": "stream",
     "text": [
      "Empty DataFrame\n",
      "Columns: [Loan_ID, Gender, Married, Dependents, Education, Self_Employed, ApplicantIncome, CoapplicantIncome, LoanAmount, Loan_Amount_Term, Credit_History, Property_Area, Loan_Status]\n",
      "Index: []\n",
      "\n",
      "\n",
      "blind columns: Index(['Loan_ID', 'Gender', 'Married', 'Dependents', 'Education',\n",
      "       'Self_Employed', 'ApplicantIncome', 'CoapplicantIncome', 'LoanAmount',\n",
      "       'Loan_Amount_Term', 'Credit_History', 'Property_Area', 'Loan_Status'],\n",
      "      dtype='object')\n",
      "\n",
      "\n",
      "blind shape: (0, 13)\n"
     ]
    }
   ],
   "source": [
    "# A blind dataframe-be másolom a mixelt dataframe szerkezetét\n",
    "blind = pd.DataFrame(columns=appended.columns)\n",
    "print(blind.head())\n",
    "#később feltöltöm azokkal az sorokkal a mixelt dataframe.ből amiben bárhol is van hiányó adat\n",
    "print(\"\\n\")\n",
    "print(\"blind columns:\",blind.columns)\n",
    "print(\"\\n\")\n",
    "print(\"blind shape:\",blind.shape)"
   ]
  },
  {
   "cell_type": "code",
   "execution_count": 11,
   "metadata": {},
   "outputs": [
    {
     "name": "stdout",
     "output_type": "stream",
     "text": [
      "<class 'pandas.core.frame.DataFrame'>\n",
      "Int64Index: 501 entries, 640 to 894\n",
      "Data columns (total 13 columns):\n",
      " #   Column             Non-Null Count  Dtype  \n",
      "---  ------             --------------  -----  \n",
      " 0   Loan_ID            501 non-null    object \n",
      " 1   Gender             477 non-null    object \n",
      " 2   Married            498 non-null    object \n",
      " 3   Dependents         476 non-null    object \n",
      " 4   Education          501 non-null    object \n",
      " 5   Self_Employed      446 non-null    object \n",
      " 6   ApplicantIncome    501 non-null    object \n",
      " 7   CoapplicantIncome  501 non-null    float64\n",
      " 8   LoanAmount         474 non-null    float64\n",
      " 9   Loan_Amount_Term   481 non-null    float64\n",
      " 10  Credit_History     422 non-null    float64\n",
      " 11  Property_Area      501 non-null    object \n",
      " 12  Loan_Status        134 non-null    object \n",
      "dtypes: float64(4), object(9)\n",
      "memory usage: 54.8+ KB\n",
      "blind shape: (501, 13)\n"
     ]
    }
   ],
   "source": [
    "#ezzel a blind dataframet feltöltöm olyan elemekkel az appended dataframeből\n",
    "# amiben bárhol null érték van\n",
    "\n",
    "blind = blind.append(appended[appended.isnull().T.any().T]) #marian szerinti\n",
    "# blind = appended[appended.isnull().T.any().T] #eredeti\n",
    "blind.info()\n",
    "print(\"blind shape:\",blind.shape)\n",
    "#501 rekord van amiben bármelyik oszlopban np.NaN található\n",
    "\n"
   ]
  },
  {
   "cell_type": "code",
   "execution_count": 12,
   "metadata": {},
   "outputs": [
    {
     "data": {
      "text/plain": [
       "Loan_ID                0\n",
       "Gender                24\n",
       "Married                3\n",
       "Dependents            25\n",
       "Education              0\n",
       "Self_Employed         55\n",
       "ApplicantIncome        0\n",
       "CoapplicantIncome      0\n",
       "LoanAmount            27\n",
       "Loan_Amount_Term      20\n",
       "Credit_History        79\n",
       "Property_Area          0\n",
       "Loan_Status          367\n",
       "dtype: int64"
      ]
     },
     "execution_count": 12,
     "metadata": {},
     "output_type": "execute_result"
    }
   ],
   "source": [
    "blind.isnull().sum()"
   ]
  },
  {
   "cell_type": "code",
   "execution_count": 13,
   "metadata": {},
   "outputs": [],
   "source": [
    "# az ApplicantIncome-ra kirajzoltatok gráfokat az összes adathalmazon"
   ]
  },
  {
   "cell_type": "code",
   "execution_count": 14,
   "metadata": {},
   "outputs": [
    {
     "data": {
      "text/plain": [
       "<matplotlib.axes._subplots.AxesSubplot at 0x1b3d615a8b0>"
      ]
     },
     "execution_count": 14,
     "metadata": {},
     "output_type": "execute_result"
    },
    {
     "data": {
      "image/png": "[encoded data removed]",
      "text/plain": [
       "<Figure size 1080x360 with 1 Axes>"
      ]
     },
     "metadata": {
      "needs_background": "light"
     },
     "output_type": "display_data"
    }
   ],
   "source": [
    "train['ApplicantIncome'].hist(bins=100,figsize=(15,5))"
   ]
  },
  {
   "cell_type": "code",
   "execution_count": 15,
   "metadata": {},
   "outputs": [
    {
     "data": {
      "text/plain": [
       "<matplotlib.axes._subplots.AxesSubplot at 0x1b3d6981880>"
      ]
     },
     "execution_count": 15,
     "metadata": {},
     "output_type": "execute_result"
    },
    {
     "data": {
      "image/png": "[encoded data removed]",
      "text/plain": [
       "<Figure size 1080x360 with 1 Axes>"
      ]
     },
     "metadata": {
      "needs_background": "light"
     },
     "output_type": "display_data"
    }
   ],
   "source": [
    "test['ApplicantIncome'].hist(bins=100,figsize=(15,5))"
   ]
  },
  {
   "cell_type": "code",
   "execution_count": 16,
   "metadata": {},
   "outputs": [
    {
     "data": {
      "text/plain": [
       "<matplotlib.axes._subplots.AxesSubplot at 0x1b3d6db25b0>"
      ]
     },
     "execution_count": 16,
     "metadata": {},
     "output_type": "execute_result"
    },
    {
     "data": {
      "image/png": "[encoded data removed]",
      "text/plain": [
       "<Figure size 1080x360 with 1 Axes>"
      ]
     },
     "metadata": {
      "needs_background": "light"
     },
     "output_type": "display_data"
    }
   ],
   "source": [
    "blind['ApplicantIncome'].hist(bins=100,figsize=(15,5))"
   ]
  },
  {
   "cell_type": "code",
   "execution_count": 17,
   "metadata": {},
   "outputs": [
    {
     "data": {
      "text/plain": [
       "<matplotlib.axes._subplots.AxesSubplot at 0x1b3d6f018e0>"
      ]
     },
     "execution_count": 17,
     "metadata": {},
     "output_type": "execute_result"
    },
    {
     "data": {
      "image/png": "[encoded data removed]",
      "text/plain": [
       "<Figure size 1080x360 with 1 Axes>"
      ]
     },
     "metadata": {
      "needs_background": "light"
     },
     "output_type": "display_data"
    }
   ],
   "source": [
    "appended['ApplicantIncome'].hist(bins=100,figsize=(15,5))"
   ]
  },
  {
   "cell_type": "code",
   "execution_count": 18,
   "metadata": {},
   "outputs": [
    {
     "name": "stdout",
     "output_type": "stream",
     "text": [
      "Train adatok %-a: 0.6258919469928644\n",
      "Test adatok %-a: 0.37410805300713557\n"
     ]
    }
   ],
   "source": [
    "#eddig adatmegoszlási arány\n",
    "sumofrecords = train.shape[0] + test.shape[0]\n",
    "print(\"Train adatok %-a:\", train.shape[0] / sumofrecords)\n",
    "print(\"Test adatok %-a:\", test.shape[0] / sumofrecords)"
   ]
  },
  {
   "cell_type": "code",
   "execution_count": 19,
   "metadata": {},
   "outputs": [
    {
     "name": "stdout",
     "output_type": "stream",
     "text": [
      "Train70 adatok %-a: 0.7003058103975535\n",
      "Test30 adatok %-a: 0.2996941896024465\n"
     ]
    }
   ],
   "source": [
    "#legyen 70-30 az egyik arány\n",
    "train70 = appended.sample(frac = 0.7)\n",
    "test30 = appended.sample(frac = 0.3)\n",
    "\n",
    "sumofrecords7030 = train70.shape[0] + test30.shape[0]\n",
    "print(\"Train70 adatok %-a:\", train70.shape[0] / sumofrecords7030)\n",
    "print(\"Test30 adatok %-a:\", test30.shape[0] / sumofrecords7030)"
   ]
  },
  {
   "cell_type": "code",
   "execution_count": 20,
   "metadata": {},
   "outputs": [
    {
     "name": "stdout",
     "output_type": "stream",
     "text": [
      "<class 'pandas.core.frame.DataFrame'>\n",
      "Int64Index: 687 entries, 243 to 197\n",
      "Data columns (total 13 columns):\n",
      " #   Column             Non-Null Count  Dtype  \n",
      "---  ------             --------------  -----  \n",
      " 0   Loan_ID            687 non-null    object \n",
      " 1   Gender             673 non-null    object \n",
      " 2   Married            685 non-null    object \n",
      " 3   Dependents         667 non-null    object \n",
      " 4   Education          687 non-null    object \n",
      " 5   Self_Employed      652 non-null    object \n",
      " 6   ApplicantIncome    687 non-null    int64  \n",
      " 7   CoapplicantIncome  687 non-null    float64\n",
      " 8   LoanAmount         665 non-null    float64\n",
      " 9   Loan_Amount_Term   672 non-null    float64\n",
      " 10  Credit_History     637 non-null    float64\n",
      " 11  Property_Area      687 non-null    object \n",
      " 12  Loan_Status        426 non-null    object \n",
      "dtypes: float64(4), int64(1), object(8)\n",
      "memory usage: 75.1+ KB\n"
     ]
    }
   ],
   "source": [
    "train70.info()"
   ]
  },
  {
   "cell_type": "code",
   "execution_count": 21,
   "metadata": {},
   "outputs": [
    {
     "data": {
      "text/plain": [
       "Loan_ID                0\n",
       "Gender                14\n",
       "Married                2\n",
       "Dependents            20\n",
       "Education              0\n",
       "Self_Employed         35\n",
       "ApplicantIncome        0\n",
       "CoapplicantIncome      0\n",
       "LoanAmount            22\n",
       "Loan_Amount_Term      15\n",
       "Credit_History        50\n",
       "Property_Area          0\n",
       "Loan_Status          261\n",
       "dtype: int64"
      ]
     },
     "execution_count": 21,
     "metadata": {},
     "output_type": "execute_result"
    }
   ],
   "source": [
    "train70.isnull().sum()"
   ]
  },
  {
   "cell_type": "code",
   "execution_count": 22,
   "metadata": {},
   "outputs": [
    {
     "data": {
      "text/plain": [
       "<matplotlib.axes._subplots.AxesSubplot at 0x1b3d71ccd60>"
      ]
     },
     "execution_count": 22,
     "metadata": {},
     "output_type": "execute_result"
    },
    {
     "data": {
      "image/png": "[encoded data removed]",
      "text/plain": [
       "<Figure size 1080x360 with 1 Axes>"
      ]
     },
     "metadata": {
      "needs_background": "light"
     },
     "output_type": "display_data"
    }
   ],
   "source": [
    "train70['ApplicantIncome'].hist(bins=100,figsize=(15,5))"
   ]
  },
  {
   "cell_type": "code",
   "execution_count": 23,
   "metadata": {},
   "outputs": [
    {
     "name": "stdout",
     "output_type": "stream",
     "text": [
      "<class 'pandas.core.frame.DataFrame'>\n",
      "Int64Index: 294 entries, 237 to 615\n",
      "Data columns (total 13 columns):\n",
      " #   Column             Non-Null Count  Dtype  \n",
      "---  ------             --------------  -----  \n",
      " 0   Loan_ID            294 non-null    object \n",
      " 1   Gender             286 non-null    object \n",
      " 2   Married            294 non-null    object \n",
      " 3   Dependents         292 non-null    object \n",
      " 4   Education          294 non-null    object \n",
      " 5   Self_Employed      280 non-null    object \n",
      " 6   ApplicantIncome    294 non-null    int64  \n",
      " 7   CoapplicantIncome  294 non-null    float64\n",
      " 8   LoanAmount         287 non-null    float64\n",
      " 9   Loan_Amount_Term   289 non-null    float64\n",
      " 10  Credit_History     266 non-null    float64\n",
      " 11  Property_Area      294 non-null    object \n",
      " 12  Loan_Status        198 non-null    object \n",
      "dtypes: float64(4), int64(1), object(8)\n",
      "memory usage: 32.2+ KB\n"
     ]
    }
   ],
   "source": [
    "test30.info()"
   ]
  },
  {
   "cell_type": "code",
   "execution_count": 24,
   "metadata": {},
   "outputs": [
    {
     "data": {
      "text/plain": [
       "Loan_ID               0\n",
       "Gender                8\n",
       "Married               0\n",
       "Dependents            2\n",
       "Education             0\n",
       "Self_Employed        14\n",
       "ApplicantIncome       0\n",
       "CoapplicantIncome     0\n",
       "LoanAmount            7\n",
       "Loan_Amount_Term      5\n",
       "Credit_History       28\n",
       "Property_Area         0\n",
       "Loan_Status          96\n",
       "dtype: int64"
      ]
     },
     "execution_count": 24,
     "metadata": {},
     "output_type": "execute_result"
    }
   ],
   "source": [
    "test30.isnull().sum()"
   ]
  },
  {
   "cell_type": "code",
   "execution_count": 25,
   "metadata": {},
   "outputs": [
    {
     "data": {
      "text/plain": [
       "<matplotlib.axes._subplots.AxesSubplot at 0x1b3d6ed6e80>"
      ]
     },
     "execution_count": 25,
     "metadata": {},
     "output_type": "execute_result"
    },
    {
     "data": {
      "image/png": "[encoded data removed]",
      "text/plain": [
       "<Figure size 1080x360 with 1 Axes>"
      ]
     },
     "metadata": {
      "needs_background": "light"
     },
     "output_type": "display_data"
    }
   ],
   "source": [
    "test30['ApplicantIncome'].hist(bins=100,figsize=(15,5))"
   ]
  },
  {
   "cell_type": "code",
   "execution_count": 26,
   "metadata": {},
   "outputs": [
    {
     "name": "stdout",
     "output_type": "stream",
     "text": [
      "Train50 adatok %-a: 0.5\n",
      "Test50 adatok %-a: 0.5\n"
     ]
    }
   ],
   "source": [
    "#legyen 50-50-es arány is\n",
    "train50 = appended.sample(frac = 0.5)\n",
    "test50 = appended.sample(frac = 0.5)\n",
    "\n",
    "sumofrecords5050 = train50.shape[0] + test50.shape[0]\n",
    "print(\"Train50 adatok %-a:\", train50.shape[0] / sumofrecords5050)\n",
    "print(\"Test50 adatok %-a:\", test50.shape[0] / sumofrecords5050)"
   ]
  },
  {
   "cell_type": "code",
   "execution_count": 27,
   "metadata": {},
   "outputs": [
    {
     "name": "stdout",
     "output_type": "stream",
     "text": [
      "<class 'pandas.core.frame.DataFrame'>\n",
      "Int64Index: 490 entries, 526 to 137\n",
      "Data columns (total 13 columns):\n",
      " #   Column             Non-Null Count  Dtype  \n",
      "---  ------             --------------  -----  \n",
      " 0   Loan_ID            490 non-null    object \n",
      " 1   Gender             477 non-null    object \n",
      " 2   Married            488 non-null    object \n",
      " 3   Dependents         482 non-null    object \n",
      " 4   Education          490 non-null    object \n",
      " 5   Self_Employed      456 non-null    object \n",
      " 6   ApplicantIncome    490 non-null    int64  \n",
      " 7   CoapplicantIncome  490 non-null    float64\n",
      " 8   LoanAmount         476 non-null    float64\n",
      " 9   Loan_Amount_Term   481 non-null    float64\n",
      " 10  Credit_History     447 non-null    float64\n",
      " 11  Property_Area      490 non-null    object \n",
      " 12  Loan_Status        302 non-null    object \n",
      "dtypes: float64(4), int64(1), object(8)\n",
      "memory usage: 53.6+ KB\n"
     ]
    }
   ],
   "source": [
    "train50.info()"
   ]
  },
  {
   "cell_type": "code",
   "execution_count": 28,
   "metadata": {},
   "outputs": [
    {
     "data": {
      "text/plain": [
       "Loan_ID                0\n",
       "Gender                13\n",
       "Married                2\n",
       "Dependents             8\n",
       "Education              0\n",
       "Self_Employed         34\n",
       "ApplicantIncome        0\n",
       "CoapplicantIncome      0\n",
       "LoanAmount            14\n",
       "Loan_Amount_Term       9\n",
       "Credit_History        43\n",
       "Property_Area          0\n",
       "Loan_Status          188\n",
       "dtype: int64"
      ]
     },
     "execution_count": 28,
     "metadata": {},
     "output_type": "execute_result"
    }
   ],
   "source": [
    "train50.isnull().sum()"
   ]
  },
  {
   "cell_type": "code",
   "execution_count": 29,
   "metadata": {},
   "outputs": [
    {
     "data": {
      "text/plain": [
       "<matplotlib.axes._subplots.AxesSubplot at 0x1b3d769e4f0>"
      ]
     },
     "execution_count": 29,
     "metadata": {},
     "output_type": "execute_result"
    },
    {
     "data": {
      "image/png": "[encoded data removed]",
      "text/plain": [
       "<Figure size 1080x360 with 1 Axes>"
      ]
     },
     "metadata": {
      "needs_background": "light"
     },
     "output_type": "display_data"
    }
   ],
   "source": [
    "train50['ApplicantIncome'].hist(bins=100,figsize=(15,5))"
   ]
  },
  {
   "cell_type": "code",
   "execution_count": 30,
   "metadata": {},
   "outputs": [
    {
     "name": "stdout",
     "output_type": "stream",
     "text": [
      "<class 'pandas.core.frame.DataFrame'>\n",
      "Int64Index: 490 entries, 552 to 326\n",
      "Data columns (total 13 columns):\n",
      " #   Column             Non-Null Count  Dtype  \n",
      "---  ------             --------------  -----  \n",
      " 0   Loan_ID            490 non-null    object \n",
      " 1   Gender             480 non-null    object \n",
      " 2   Married            488 non-null    object \n",
      " 3   Dependents         475 non-null    object \n",
      " 4   Education          490 non-null    object \n",
      " 5   Self_Employed      465 non-null    object \n",
      " 6   ApplicantIncome    490 non-null    int64  \n",
      " 7   CoapplicantIncome  490 non-null    float64\n",
      " 8   LoanAmount         475 non-null    float64\n",
      " 9   Loan_Amount_Term   483 non-null    float64\n",
      " 10  Credit_History     450 non-null    float64\n",
      " 11  Property_Area      490 non-null    object \n",
      " 12  Loan_Status        303 non-null    object \n",
      "dtypes: float64(4), int64(1), object(8)\n",
      "memory usage: 53.6+ KB\n"
     ]
    }
   ],
   "source": [
    "test50.info()"
   ]
  },
  {
   "cell_type": "code",
   "execution_count": 31,
   "metadata": {},
   "outputs": [
    {
     "data": {
      "text/plain": [
       "Loan_ID                0\n",
       "Gender                10\n",
       "Married                2\n",
       "Dependents            15\n",
       "Education              0\n",
       "Self_Employed         25\n",
       "ApplicantIncome        0\n",
       "CoapplicantIncome      0\n",
       "LoanAmount            15\n",
       "Loan_Amount_Term       7\n",
       "Credit_History        40\n",
       "Property_Area          0\n",
       "Loan_Status          187\n",
       "dtype: int64"
      ]
     },
     "execution_count": 31,
     "metadata": {},
     "output_type": "execute_result"
    }
   ],
   "source": [
    "test50.isnull().sum()"
   ]
  },
  {
   "cell_type": "code",
   "execution_count": 32,
   "metadata": {},
   "outputs": [
    {
     "data": {
      "text/plain": [
       "<matplotlib.axes._subplots.AxesSubplot at 0x1b3d77db790>"
      ]
     },
     "execution_count": 32,
     "metadata": {},
     "output_type": "execute_result"
    },
    {
     "data": {
      "image/png": "[encoded data removed]",
      "text/plain": [
       "<Figure size 1080x360 with 1 Axes>"
      ]
     },
     "metadata": {
      "needs_background": "light"
     },
     "output_type": "display_data"
    }
   ],
   "source": [
    "test50['ApplicantIncome'].hist(bins=100,figsize=(15,5))"
   ]
  },
  {
   "cell_type": "code",
   "execution_count": 33,
   "metadata": {},
   "outputs": [
    {
     "name": "stdout",
     "output_type": "stream",
     "text": [
      "Trainrandom shape: (597, 13)\n",
      "Testrandom shape: (384, 13)\n",
      "\n",
      "\n",
      "Trainrandom adatok %-a: 0.6085626911314985\n",
      "Testrandom adatok %-a: 0.39143730886850153\n"
     ]
    }
   ],
   "source": [
    "# random arányú is legyen ahol train > 0.5\n",
    "import random\n",
    "randomrate = random.uniform(0.5,1.0)\n",
    "# randomrate\n",
    "\n",
    "trainrandom = appended.sample(frac = randomrate)\n",
    "testrandom = appended.sample(frac = (1 - randomrate))\n",
    "print(\"Trainrandom shape:\", trainrandom.shape)\n",
    "print(\"Testrandom shape:\",testrandom.shape)\n",
    "\n",
    "print(\"\\n\")\n",
    "\n",
    "sumofrecordsrandom = trainrandom.shape[0] + testrandom.shape[0]\n",
    "print(\"Trainrandom adatok %-a:\", trainrandom.shape[0] / sumofrecordsrandom)\n",
    "print(\"Testrandom adatok %-a:\", testrandom.shape[0] / sumofrecordsrandom)"
   ]
  },
  {
   "cell_type": "code",
   "execution_count": 34,
   "metadata": {},
   "outputs": [
    {
     "name": "stdout",
     "output_type": "stream",
     "text": [
      "<class 'pandas.core.frame.DataFrame'>\n",
      "Int64Index: 597 entries, 83 to 821\n",
      "Data columns (total 13 columns):\n",
      " #   Column             Non-Null Count  Dtype  \n",
      "---  ------             --------------  -----  \n",
      " 0   Loan_ID            597 non-null    object \n",
      " 1   Gender             580 non-null    object \n",
      " 2   Married            595 non-null    object \n",
      " 3   Dependents         583 non-null    object \n",
      " 4   Education          597 non-null    object \n",
      " 5   Self_Employed      564 non-null    object \n",
      " 6   ApplicantIncome    597 non-null    int64  \n",
      " 7   CoapplicantIncome  597 non-null    float64\n",
      " 8   LoanAmount         576 non-null    float64\n",
      " 9   Loan_Amount_Term   585 non-null    float64\n",
      " 10  Credit_History     542 non-null    float64\n",
      " 11  Property_Area      597 non-null    object \n",
      " 12  Loan_Status        378 non-null    object \n",
      "dtypes: float64(4), int64(1), object(8)\n",
      "memory usage: 65.3+ KB\n"
     ]
    }
   ],
   "source": [
    "trainrandom.info()"
   ]
  },
  {
   "cell_type": "code",
   "execution_count": 35,
   "metadata": {},
   "outputs": [
    {
     "data": {
      "text/plain": [
       "Loan_ID                0\n",
       "Gender                17\n",
       "Married                2\n",
       "Dependents            14\n",
       "Education              0\n",
       "Self_Employed         33\n",
       "ApplicantIncome        0\n",
       "CoapplicantIncome      0\n",
       "LoanAmount            21\n",
       "Loan_Amount_Term      12\n",
       "Credit_History        55\n",
       "Property_Area          0\n",
       "Loan_Status          219\n",
       "dtype: int64"
      ]
     },
     "execution_count": 35,
     "metadata": {},
     "output_type": "execute_result"
    }
   ],
   "source": [
    "trainrandom.isnull().sum()"
   ]
  },
  {
   "cell_type": "code",
   "execution_count": 36,
   "metadata": {},
   "outputs": [
    {
     "data": {
      "text/plain": [
       "<matplotlib.axes._subplots.AxesSubplot at 0x1b3d7a790d0>"
      ]
     },
     "execution_count": 36,
     "metadata": {},
     "output_type": "execute_result"
    },
    {
     "data": {
      "image/png": "[encoded data removed]",
      "text/plain": [
       "<Figure size 1080x360 with 1 Axes>"
      ]
     },
     "metadata": {
      "needs_background": "light"
     },
     "output_type": "display_data"
    }
   ],
   "source": [
    "trainrandom['ApplicantIncome'].hist(bins=100,figsize=(15,5))"
   ]
  },
  {
   "cell_type": "code",
   "execution_count": 37,
   "metadata": {},
   "outputs": [
    {
     "name": "stdout",
     "output_type": "stream",
     "text": [
      "<class 'pandas.core.frame.DataFrame'>\n",
      "Int64Index: 384 entries, 4 to 733\n",
      "Data columns (total 13 columns):\n",
      " #   Column             Non-Null Count  Dtype  \n",
      "---  ------             --------------  -----  \n",
      " 0   Loan_ID            384 non-null    object \n",
      " 1   Gender             370 non-null    object \n",
      " 2   Married            382 non-null    object \n",
      " 3   Dependents         376 non-null    object \n",
      " 4   Education          384 non-null    object \n",
      " 5   Self_Employed      366 non-null    object \n",
      " 6   ApplicantIncome    384 non-null    int64  \n",
      " 7   CoapplicantIncome  384 non-null    float64\n",
      " 8   LoanAmount         372 non-null    float64\n",
      " 9   Loan_Amount_Term   375 non-null    float64\n",
      " 10  Credit_History     349 non-null    float64\n",
      " 11  Property_Area      384 non-null    object \n",
      " 12  Loan_Status        232 non-null    object \n",
      "dtypes: float64(4), int64(1), object(8)\n",
      "memory usage: 42.0+ KB\n"
     ]
    }
   ],
   "source": [
    "testrandom.info()"
   ]
  },
  {
   "cell_type": "code",
   "execution_count": 38,
   "metadata": {},
   "outputs": [
    {
     "data": {
      "text/plain": [
       "Loan_ID                0\n",
       "Gender                14\n",
       "Married                2\n",
       "Dependents             8\n",
       "Education              0\n",
       "Self_Employed         18\n",
       "ApplicantIncome        0\n",
       "CoapplicantIncome      0\n",
       "LoanAmount            12\n",
       "Loan_Amount_Term       9\n",
       "Credit_History        35\n",
       "Property_Area          0\n",
       "Loan_Status          152\n",
       "dtype: int64"
      ]
     },
     "execution_count": 38,
     "metadata": {},
     "output_type": "execute_result"
    }
   ],
   "source": [
    "testrandom.isnull().sum()"
   ]
  },
  {
   "cell_type": "code",
   "execution_count": 39,
   "metadata": {},
   "outputs": [
    {
     "data": {
      "text/plain": [
       "<matplotlib.axes._subplots.AxesSubplot at 0x1b3d7d0e6a0>"
      ]
     },
     "execution_count": 39,
     "metadata": {},
     "output_type": "execute_result"
    },
    {
     "data": {
      "image/png": "[encoded data removed]",
      "text/plain": [
       "<Figure size 1080x360 with 1 Axes>"
      ]
     },
     "metadata": {
      "needs_background": "light"
     },
     "output_type": "display_data"
    }
   ],
   "source": [
    "testrandom['ApplicantIncome'].hist(bins=100,figsize=(15,5))"
   ]
  },
  {
   "cell_type": "code",
   "execution_count": 40,
   "metadata": {},
   "outputs": [],
   "source": [
    "# logaritmikus simítás az összes adathalmazon az ApplicantIncome attribútumra"
   ]
  },
  {
   "cell_type": "code",
   "execution_count": 41,
   "metadata": {},
   "outputs": [
    {
     "name": "stderr",
     "output_type": "stream",
     "text": [
      "C:\\Users\\Buzadara\\anaconda3\\lib\\site-packages\\pandas\\core\\series.py:679: RuntimeWarning: divide by zero encountered in log\n",
      "  result = getattr(ufunc, method)(*inputs, **kwargs)\n"
     ]
    }
   ],
   "source": [
    "import numpy as np\n",
    "train[\"ApplicantIncome_log\"] = np.log(train[\"ApplicantIncome\"])\n",
    "test[\"ApplicantIncome_log\"] = np.log(test[\"ApplicantIncome\"])\n",
    "\n",
    "train70[\"ApplicantIncome_log\"] = np.log(train70[\"ApplicantIncome\"])\n",
    "test30[\"ApplicantIncome_log\"] = np.log(test30[\"ApplicantIncome\"])\n",
    "\n",
    "train50[\"ApplicantIncome_log\"] = np.log(train50[\"ApplicantIncome\"])\n",
    "test50[\"ApplicantIncome_log\"] = np.log(test50[\"ApplicantIncome\"])\n",
    "\n",
    "trainrandom[\"ApplicantIncome_log\"] = np.log(trainrandom[\"ApplicantIncome\"])\n",
    "testrandom[\"ApplicantIncome_log\"] = np.log(testrandom[\"ApplicantIncome\"])\n",
    "\n",
    "#mivel sok rekord ApplicantIncom_log értéke nulla és a logaritmus nem tud mit kezdeni vele\n",
    "#ezért ki kell cserélni a +-végteleneket és NaN értékeket nullára\n",
    "train[\"ApplicantIncome_log\"] = train[\"ApplicantIncome_log\"].replace([np.inf,-np.inf,np.NaN],0)\n",
    "test[\"ApplicantIncome_log\"] = test[\"ApplicantIncome_log\"].replace([np.inf,-np.inf,np.NaN],0)\n",
    "\n",
    "train70[\"ApplicantIncome_log\"] = train70[\"ApplicantIncome_log\"].replace([np.inf,-np.inf,np.NaN],0)\n",
    "test30[\"ApplicantIncome_log\"] = test30[\"ApplicantIncome_log\"].replace([np.inf,-np.inf,np.NaN],0)\n",
    "\n",
    "train50[\"ApplicantIncome_log\"] = train50[\"ApplicantIncome_log\"].replace([np.inf,-np.inf,np.NaN],0)\n",
    "test50[\"ApplicantIncome_log\"] = test50[\"ApplicantIncome_log\"].replace([np.inf,-np.inf,np.NaN],0)\n",
    "\n",
    "trainrandom[\"ApplicantIncome_log\"] = trainrandom[\"ApplicantIncome_log\"].replace([np.inf,-np.inf,np.NaN],0)\n",
    "testrandom[\"ApplicantIncome_log\"] = testrandom[\"ApplicantIncome_log\"].replace([np.inf,-np.inf,np.NaN],0)"
   ]
  },
  {
   "cell_type": "code",
   "execution_count": 42,
   "metadata": {},
   "outputs": [],
   "source": [
    "# megjelenítjük a logaritmikusan simított ApplicantIncome attribútumot az összes adathalmazban"
   ]
  },
  {
   "cell_type": "code",
   "execution_count": 43,
   "metadata": {},
   "outputs": [
    {
     "data": {
      "text/plain": [
       "<matplotlib.axes._subplots.AxesSubplot at 0x1b3d6de8310>"
      ]
     },
     "execution_count": 43,
     "metadata": {},
     "output_type": "execute_result"
    },
    {
     "data": {
      "image/png": "[encoded data removed]",
      "text/plain": [
       "<Figure size 1080x360 with 1 Axes>"
      ]
     },
     "metadata": {
      "needs_background": "light"
     },
     "output_type": "display_data"
    }
   ],
   "source": [
    "train['ApplicantIncome_log'].hist(bins=100,figsize=(15,5))"
   ]
  },
  {
   "cell_type": "code",
   "execution_count": 44,
   "metadata": {},
   "outputs": [
    {
     "data": {
      "text/plain": [
       "<matplotlib.axes._subplots.AxesSubplot at 0x1b3d822fbe0>"
      ]
     },
     "execution_count": 44,
     "metadata": {},
     "output_type": "execute_result"
    },
    {
     "data": {
      "image/png": "[encoded data removed]",
      "text/plain": [
       "<Figure size 1080x360 with 1 Axes>"
      ]
     },
     "metadata": {
      "needs_background": "light"
     },
     "output_type": "display_data"
    }
   ],
   "source": [
    "test['ApplicantIncome_log'].hist(bins=100,figsize=(15,5))"
   ]
  },
  {
   "cell_type": "code",
   "execution_count": 45,
   "metadata": {},
   "outputs": [
    {
     "data": {
      "text/plain": [
       "<matplotlib.axes._subplots.AxesSubplot at 0x1b3d8494a90>"
      ]
     },
     "execution_count": 45,
     "metadata": {},
     "output_type": "execute_result"
    },
    {
     "data": {
      "image/png": "[encoded data removed]",
      "text/plain": [
       "<Figure size 1080x360 with 1 Axes>"
      ]
     },
     "metadata": {
      "needs_background": "light"
     },
     "output_type": "display_data"
    }
   ],
   "source": [
    "train70['ApplicantIncome_log'].hist(bins=100,figsize=(15,5))"
   ]
  },
  {
   "cell_type": "code",
   "execution_count": 46,
   "metadata": {},
   "outputs": [
    {
     "data": {
      "text/plain": [
       "<matplotlib.axes._subplots.AxesSubplot at 0x1b3d871d1f0>"
      ]
     },
     "execution_count": 46,
     "metadata": {},
     "output_type": "execute_result"
    },
    {
     "data": {
      "image/png": "[encoded data removed]",
      "text/plain": [
       "<Figure size 1080x360 with 1 Axes>"
      ]
     },
     "metadata": {
      "needs_background": "light"
     },
     "output_type": "display_data"
    }
   ],
   "source": [
    "test30['ApplicantIncome_log'].hist(bins=100,figsize=(15,5))"
   ]
  },
  {
   "cell_type": "code",
   "execution_count": 47,
   "metadata": {},
   "outputs": [
    {
     "data": {
      "text/plain": [
       "<matplotlib.axes._subplots.AxesSubplot at 0x1b3d8962100>"
      ]
     },
     "execution_count": 47,
     "metadata": {},
     "output_type": "execute_result"
    },
    {
     "data": {
      "image/png": "[encoded data removed]",
      "text/plain": [
       "<Figure size 1080x360 with 1 Axes>"
      ]
     },
     "metadata": {
      "needs_background": "light"
     },
     "output_type": "display_data"
    }
   ],
   "source": [
    "train50['ApplicantIncome_log'].hist(bins=100,figsize=(15,5))"
   ]
  },
  {
   "cell_type": "code",
   "execution_count": 48,
   "metadata": {},
   "outputs": [
    {
     "data": {
      "text/plain": [
       "<matplotlib.axes._subplots.AxesSubplot at 0x1b3d8bcfe50>"
      ]
     },
     "execution_count": 48,
     "metadata": {},
     "output_type": "execute_result"
    },
    {
     "data": {
      "image/png": "[encoded data removed]",
      "text/plain": [
       "<Figure size 1080x360 with 1 Axes>"
      ]
     },
     "metadata": {
      "needs_background": "light"
     },
     "output_type": "display_data"
    }
   ],
   "source": [
    "test50['ApplicantIncome_log'].hist(bins=100,figsize=(15,5))"
   ]
  },
  {
   "cell_type": "code",
   "execution_count": 49,
   "metadata": {},
   "outputs": [
    {
     "data": {
      "text/plain": [
       "<matplotlib.axes._subplots.AxesSubplot at 0x1b3d8512ee0>"
      ]
     },
     "execution_count": 49,
     "metadata": {},
     "output_type": "execute_result"
    },
    {
     "data": {
      "image/png": "[encoded data removed]",
      "text/plain": [
       "<Figure size 1080x360 with 1 Axes>"
      ]
     },
     "metadata": {
      "needs_background": "light"
     },
     "output_type": "display_data"
    }
   ],
   "source": [
    "trainrandom['ApplicantIncome_log'].hist(bins=100,figsize=(15,5))"
   ]
  },
  {
   "cell_type": "code",
   "execution_count": 50,
   "metadata": {},
   "outputs": [
    {
     "data": {
      "text/plain": [
       "<matplotlib.axes._subplots.AxesSubplot at 0x1b3d93526d0>"
      ]
     },
     "execution_count": 50,
     "metadata": {},
     "output_type": "execute_result"
    },
    {
     "data": {
      "image/png": "[encoded data removed]",
      "text/plain": [
       "<Figure size 1080x360 with 1 Axes>"
      ]
     },
     "metadata": {
      "needs_background": "light"
     },
     "output_type": "display_data"
    }
   ],
   "source": [
    "testrandom['ApplicantIncome_log'].hist(bins=100,figsize=(15,5))"
   ]
  },
  {
   "cell_type": "code",
   "execution_count": 51,
   "metadata": {},
   "outputs": [],
   "source": [
    "# a LoanAmount-ra is megcsinálom ugyanezt a logolást"
   ]
  },
  {
   "cell_type": "code",
   "execution_count": 52,
   "metadata": {},
   "outputs": [],
   "source": [
    "train[\"LoanAmount_log\"] = np.log(train[\"LoanAmount\"])\n",
    "test[\"LoanAmount_log\"] = np.log(test[\"LoanAmount\"])\n",
    "\n",
    "train70[\"LoanAmount_log\"] = np.log(train70[\"LoanAmount\"])\n",
    "test30[\"LoanAmount_log\"] = np.log(test30[\"LoanAmount\"])\n",
    "\n",
    "train50[\"LoanAmount_log\"] = np.log(train50[\"LoanAmount\"])\n",
    "test50[\"LoanAmount_log\"] = np.log(test50[\"LoanAmount\"])\n",
    "\n",
    "trainrandom[\"LoanAmount_log\"] = np.log(trainrandom[\"LoanAmount\"])\n",
    "testrandom[\"LoanAmount_log\"] = np.log(testrandom[\"LoanAmount\"])\n",
    "\n",
    "#mivel sok rekord LoanAmount_log értéke nulla és a logaritmus nem tud mit kezdeni vele\n",
    "#ezért ki kell cserélni a +-végteleneket és NaN értékeket nullára\n",
    "train[\"LoanAmount_log\"] = train[\"LoanAmount_log\"].replace([np.inf,-np.inf,np.NaN],0)\n",
    "test[\"LoanAmount_log\"] = test[\"LoanAmount_log\"].replace([np.inf,-np.inf,np.NaN],0)\n",
    "\n",
    "train70[\"LoanAmount_log\"] = train70[\"LoanAmount_log\"].replace([np.inf,-np.inf,np.NaN],0)\n",
    "test30[\"LoanAmount_log\"] = test30[\"LoanAmount_log\"].replace([np.inf,-np.inf,np.NaN],0)\n",
    "\n",
    "train50[\"LoanAmount_log\"] = train50[\"LoanAmount_log\"].replace([np.inf,-np.inf,np.NaN],0)\n",
    "test50[\"LoanAmount_log\"] = test50[\"LoanAmount_log\"].replace([np.inf,-np.inf,np.NaN],0)\n",
    "\n",
    "trainrandom[\"LoanAmount_log\"] = trainrandom[\"LoanAmount_log\"].replace([np.inf,-np.inf,np.NaN],0)\n",
    "testrandom[\"LoanAmount_log\"] = testrandom[\"LoanAmount_log\"].replace([np.inf,-np.inf,np.NaN],0)"
   ]
  },
  {
   "cell_type": "code",
   "execution_count": 53,
   "metadata": {},
   "outputs": [
    {
     "data": {
      "text/plain": [
       "<matplotlib.axes._subplots.AxesSubplot at 0x1b3d9183d60>"
      ]
     },
     "execution_count": 53,
     "metadata": {},
     "output_type": "execute_result"
    },
    {
     "data": {
      "image/png": "[encoded data removed]",
      "text/plain": [
       "<Figure size 1080x360 with 1 Axes>"
      ]
     },
     "metadata": {
      "needs_background": "light"
     },
     "output_type": "display_data"
    }
   ],
   "source": [
    "train['LoanAmount'].hist(bins=100,figsize=(15,5))"
   ]
  },
  {
   "cell_type": "code",
   "execution_count": 54,
   "metadata": {},
   "outputs": [
    {
     "data": {
      "text/plain": [
       "<matplotlib.axes._subplots.AxesSubplot at 0x1b3d9598550>"
      ]
     },
     "execution_count": 54,
     "metadata": {},
     "output_type": "execute_result"
    },
    {
     "data": {
      "image/png": "[encoded data removed]",
      "text/plain": [
       "<Figure size 1080x360 with 1 Axes>"
      ]
     },
     "metadata": {
      "needs_background": "light"
     },
     "output_type": "display_data"
    }
   ],
   "source": [
    "test['LoanAmount'].hist(bins=100,figsize=(15,5))"
   ]
  },
  {
   "cell_type": "code",
   "execution_count": 55,
   "metadata": {},
   "outputs": [
    {
     "data": {
      "text/plain": [
       "<matplotlib.axes._subplots.AxesSubplot at 0x1b3d9812eb0>"
      ]
     },
     "execution_count": 55,
     "metadata": {},
     "output_type": "execute_result"
    },
    {
     "data": {
      "image/png": "[encoded data removed]",
      "text/plain": [
       "<Figure size 1080x360 with 1 Axes>"
      ]
     },
     "metadata": {
      "needs_background": "light"
     },
     "output_type": "display_data"
    }
   ],
   "source": [
    "train['LoanAmount_log'].hist(bins=100,figsize=(15,5))"
   ]
  },
  {
   "cell_type": "code",
   "execution_count": 56,
   "metadata": {},
   "outputs": [
    {
     "data": {
      "text/plain": [
       "<matplotlib.axes._subplots.AxesSubplot at 0x1b3d8bd4310>"
      ]
     },
     "execution_count": 56,
     "metadata": {},
     "output_type": "execute_result"
    },
    {
     "data": {
      "image/png": "[encoded data removed]",
      "text/plain": [
       "<Figure size 1080x360 with 1 Axes>"
      ]
     },
     "metadata": {
      "needs_background": "light"
     },
     "output_type": "display_data"
    }
   ],
   "source": [
    "test['LoanAmount_log'].hist(bins=100,figsize=(15,5))"
   ]
  },
  {
   "cell_type": "code",
   "execution_count": 57,
   "metadata": {},
   "outputs": [
    {
     "data": {
      "text/plain": [
       "<matplotlib.axes._subplots.AxesSubplot at 0x1b3d7cfd160>"
      ]
     },
     "execution_count": 57,
     "metadata": {},
     "output_type": "execute_result"
    },
    {
     "data": {
      "image/png": "[encoded data removed]",
      "text/plain": [
       "<Figure size 1080x360 with 1 Axes>"
      ]
     },
     "metadata": {
      "needs_background": "light"
     },
     "output_type": "display_data"
    }
   ],
   "source": [
    "train70['LoanAmount_log'].hist(bins=100,figsize=(15,5))"
   ]
  },
  {
   "cell_type": "code",
   "execution_count": 58,
   "metadata": {},
   "outputs": [
    {
     "data": {
      "text/plain": [
       "<matplotlib.axes._subplots.AxesSubplot at 0x1b3d9f7a7c0>"
      ]
     },
     "execution_count": 58,
     "metadata": {},
     "output_type": "execute_result"
    },
    {
     "data": {
      "image/png": "[encoded data removed]",
      "text/plain": [
       "<Figure size 1080x360 with 1 Axes>"
      ]
     },
     "metadata": {
      "needs_background": "light"
     },
     "output_type": "display_data"
    }
   ],
   "source": [
    "test30['LoanAmount_log'].hist(bins=100,figsize=(15,5))"
   ]
  },
  {
   "cell_type": "code",
   "execution_count": 59,
   "metadata": {},
   "outputs": [
    {
     "data": {
      "text/plain": [
       "<matplotlib.axes._subplots.AxesSubplot at 0x1b3db2b7760>"
      ]
     },
     "execution_count": 59,
     "metadata": {},
     "output_type": "execute_result"
    },
    {
     "data": {
      "image/png": "[encoded data removed]",
      "text/plain": [
       "<Figure size 1080x360 with 1 Axes>"
      ]
     },
     "metadata": {
      "needs_background": "light"
     },
     "output_type": "display_data"
    }
   ],
   "source": [
    "train50['LoanAmount_log'].hist(bins=100,figsize=(15,5))"
   ]
  },
  {
   "cell_type": "code",
   "execution_count": 60,
   "metadata": {},
   "outputs": [
    {
     "data": {
      "text/plain": [
       "<matplotlib.axes._subplots.AxesSubplot at 0x1b3db3efbe0>"
      ]
     },
     "execution_count": 60,
     "metadata": {},
     "output_type": "execute_result"
    },
    {
     "data": {
      "image/png": "[encoded data removed]",
      "text/plain": [
       "<Figure size 1080x360 with 1 Axes>"
      ]
     },
     "metadata": {
      "needs_background": "light"
     },
     "output_type": "display_data"
    }
   ],
   "source": [
    "test50['LoanAmount_log'].hist(bins=100,figsize=(15,5))"
   ]
  },
  {
   "cell_type": "code",
   "execution_count": 61,
   "metadata": {},
   "outputs": [
    {
     "data": {
      "text/plain": [
       "<matplotlib.axes._subplots.AxesSubplot at 0x1b3db66c640>"
      ]
     },
     "execution_count": 61,
     "metadata": {},
     "output_type": "execute_result"
    },
    {
     "data": {
      "image/png": "[encoded data removed]",
      "text/plain": [
       "<Figure size 1080x360 with 1 Axes>"
      ]
     },
     "metadata": {
      "needs_background": "light"
     },
     "output_type": "display_data"
    }
   ],
   "source": [
    "trainrandom['LoanAmount_log'].hist(bins=100,figsize=(15,5))"
   ]
  },
  {
   "cell_type": "code",
   "execution_count": 62,
   "metadata": {},
   "outputs": [
    {
     "data": {
      "text/plain": [
       "<matplotlib.axes._subplots.AxesSubplot at 0x1b3db913070>"
      ]
     },
     "execution_count": 62,
     "metadata": {},
     "output_type": "execute_result"
    },
    {
     "data": {
      "image/png": "[encoded data removed]",
      "text/plain": [
       "<Figure size 1080x360 with 1 Axes>"
      ]
     },
     "metadata": {
      "needs_background": "light"
     },
     "output_type": "display_data"
    }
   ],
   "source": [
    "testrandom['LoanAmount_log'].hist(bins=100,figsize=(15,5))"
   ]
  },
  {
   "cell_type": "code",
   "execution_count": 63,
   "metadata": {},
   "outputs": [
    {
     "data": {
      "text/plain": [
       "<matplotlib.axes._subplots.AxesSubplot at 0x1b3dbb84490>"
      ]
     },
     "execution_count": 63,
     "metadata": {},
     "output_type": "execute_result"
    },
    {
     "data": {
      "image/png": "[encoded data removed]",
      "text/plain": [
       "<Figure size 432x288 with 1 Axes>"
      ]
     },
     "metadata": {
      "needs_background": "light"
     },
     "output_type": "display_data"
    }
   ],
   "source": [
    "#Train50 Credit history + Loan Status\n",
    "fsc = pd.crosstab(train50['Credit_History'], train50['Loan_Status'])\n",
    "fsc.plot(kind='bar', stacked=True, color=['red','blue'], grid=True)"
   ]
  },
  {
   "cell_type": "code",
   "execution_count": 64,
   "metadata": {},
   "outputs": [
    {
     "data": {
      "text/plain": [
       "<matplotlib.axes._subplots.AxesSubplot at 0x1b3dbc141c0>"
      ]
     },
     "execution_count": 64,
     "metadata": {},
     "output_type": "execute_result"
    },
    {
     "data": {
      "image/png": "[encoded data removed]",
      "text/plain": [
       "<Figure size 432x288 with 1 Axes>"
      ]
     },
     "metadata": {
      "needs_background": "light"
     },
     "output_type": "display_data"
    }
   ],
   "source": [
    "#Test50 Credit history + Loan Status\n",
    "fsc = pd.crosstab(test50['Credit_History'], test50['Loan_Status'])\n",
    "fsc.plot(kind='bar', stacked=True, color=['red','blue'], grid=True)"
   ]
  },
  {
   "cell_type": "code",
   "execution_count": 65,
   "metadata": {},
   "outputs": [
    {
     "data": {
      "text/plain": [
       "<matplotlib.axes._subplots.AxesSubplot at 0x1b3dbd9b6a0>"
      ]
     },
     "execution_count": 65,
     "metadata": {},
     "output_type": "execute_result"
    },
    {
     "data": {
      "image/png": "[encoded data removed]",
      "text/plain": [
       "<Figure size 432x288 with 1 Axes>"
      ]
     },
     "metadata": {
      "needs_background": "light"
     },
     "output_type": "display_data"
    }
   ],
   "source": [
    "#Train70 Credit history + Loan Status\n",
    "fsc = pd.crosstab(train70['Credit_History'], train70['Loan_Status'])\n",
    "fsc.plot(kind='bar', stacked=True, color=['red','blue'], grid=True)"
   ]
  },
  {
   "cell_type": "code",
   "execution_count": 66,
   "metadata": {},
   "outputs": [
    {
     "data": {
      "text/plain": [
       "<matplotlib.axes._subplots.AxesSubplot at 0x1b3dbdfe640>"
      ]
     },
     "execution_count": 66,
     "metadata": {},
     "output_type": "execute_result"
    },
    {
     "data": {
      "image/png": "[encoded data removed]",
      "text/plain": [
       "<Figure size 432x288 with 1 Axes>"
      ]
     },
     "metadata": {
      "needs_background": "light"
     },
     "output_type": "display_data"
    }
   ],
   "source": [
    "#Test30 Credit history + Loan Status\n",
    "fsc = pd.crosstab(test30['Credit_History'], test30['Loan_Status'])\n",
    "fsc.plot(kind='bar', stacked=True, color=['red','blue'], grid=True)"
   ]
  },
  {
   "cell_type": "code",
   "execution_count": 67,
   "metadata": {},
   "outputs": [
    {
     "data": {
      "text/plain": [
       "<matplotlib.axes._subplots.AxesSubplot at 0x1b3dbe65160>"
      ]
     },
     "execution_count": 67,
     "metadata": {},
     "output_type": "execute_result"
    },
    {
     "data": {
      "image/png": "[encoded data removed]",
      "text/plain": [
       "<Figure size 432x288 with 1 Axes>"
      ]
     },
     "metadata": {
      "needs_background": "light"
     },
     "output_type": "display_data"
    }
   ],
   "source": [
    "# blind Credit history + Loan Status\n",
    "fsc = pd.crosstab(blind['Credit_History'], blind['Loan_Status'])\n",
    "fsc.plot(kind='bar', stacked=True, color=['red','blue'], grid=True)"
   ]
  },
  {
   "cell_type": "code",
   "execution_count": 68,
   "metadata": {},
   "outputs": [
    {
     "data": {
      "text/plain": [
       "Loan_ID                0\n",
       "Gender                24\n",
       "Married                3\n",
       "Dependents            25\n",
       "Education              0\n",
       "Self_Employed         55\n",
       "ApplicantIncome        0\n",
       "CoapplicantIncome      0\n",
       "LoanAmount            27\n",
       "Loan_Amount_Term      20\n",
       "Credit_History        79\n",
       "Property_Area          0\n",
       "Loan_Status          367\n",
       "dtype: int64"
      ]
     },
     "execution_count": 68,
     "metadata": {},
     "output_type": "execute_result"
    }
   ],
   "source": [
    "blind.apply(lambda x: sum(x.isnull()),axis=0)"
   ]
  },
  {
   "cell_type": "code",
   "execution_count": 69,
   "metadata": {},
   "outputs": [],
   "source": [
    "#feltöltjük a blindból hiányzó elemeket\n",
    "\n",
    "blind['LoanAmount'].fillna(blind['LoanAmount'].mean(), inplace=True)\n",
    "blind['Gender'].fillna(blind['Gender'].mode()[0], inplace=True)\n",
    "blind['Married'].fillna(blind['Married'].mode()[0], inplace=True)\n",
    "blind['Dependents'].fillna(blind['Dependents'].mode()[0], inplace=True)\n",
    "blind['Loan_Amount_Term'].fillna(blind['Loan_Amount_Term'].mode()[0], inplace=True)\n",
    "blind['Credit_History'].fillna(blind['Credit_History'].mode()[0], inplace=True)\n",
    "blind['Self_Employed'].fillna('No',inplace=True)"
   ]
  },
  {
   "cell_type": "code",
   "execution_count": 70,
   "metadata": {},
   "outputs": [
    {
     "data": {
      "text/plain": [
       "Loan_ID                0\n",
       "Gender                 0\n",
       "Married                0\n",
       "Dependents             0\n",
       "Education              0\n",
       "Self_Employed          0\n",
       "ApplicantIncome        0\n",
       "CoapplicantIncome      0\n",
       "LoanAmount             0\n",
       "Loan_Amount_Term       0\n",
       "Credit_History         0\n",
       "Property_Area          0\n",
       "Loan_Status          367\n",
       "dtype: int64"
      ]
     },
     "execution_count": 70,
     "metadata": {},
     "output_type": "execute_result"
    }
   ],
   "source": [
    "blind.apply(lambda x: sum(x.isnull()),axis=0)"
   ]
  },
  {
   "cell_type": "code",
   "execution_count": 71,
   "metadata": {},
   "outputs": [
    {
     "data": {
      "text/plain": [
       "<matplotlib.axes._subplots.AxesSubplot at 0x1b3db190910>"
      ]
     },
     "execution_count": 71,
     "metadata": {},
     "output_type": "execute_result"
    },
    {
     "data": {
      "image/png": "[encoded data removed]",
      "text/plain": [
       "<Figure size 1080x360 with 1 Axes>"
      ]
     },
     "metadata": {
      "needs_background": "light"
     },
     "output_type": "display_data"
    }
   ],
   "source": [
    "# train70-re létrehozok egy totalincome-ot\n",
    "train70['TotalIncome'] = train70['ApplicantIncome'] + train70['CoapplicantIncome']\n",
    "#illetve logaritmikus simítást\n",
    "train70['TotalIncome_log'] = np.log(train70['TotalIncome'])\n",
    "train70['TotalIncome_log'].hist(bins=20,figsize=(15,5))"
   ]
  },
  {
   "cell_type": "code",
   "execution_count": 72,
   "metadata": {},
   "outputs": [
    {
     "data": {
      "text/plain": [
       "<matplotlib.axes._subplots.AxesSubplot at 0x1b3dc0a3c70>"
      ]
     },
     "execution_count": 72,
     "metadata": {},
     "output_type": "execute_result"
    },
    {
     "data": {
      "image/png": "[encoded data removed]",
      "text/plain": [
       "<Figure size 1080x360 with 1 Axes>"
      ]
     },
     "metadata": {
      "needs_background": "light"
     },
     "output_type": "display_data"
    }
   ],
   "source": [
    "# blind-ra létrehozok egy totalincome-ot\n",
    "blind['TotalIncome'] = train70['ApplicantIncome'] + blind['CoapplicantIncome']\n",
    "#illetve logaritmikus simítást\n",
    "blind['TotalIncome_log'] = np.log(blind['TotalIncome'])\n",
    "blind['TotalIncome_log'].hist(bins=20,figsize=(15,5))"
   ]
  },
  {
   "cell_type": "code",
   "execution_count": 73,
   "metadata": {},
   "outputs": [
    {
     "data": {
      "text/plain": [
       "Loan_ID                 object\n",
       "Gender                  object\n",
       "Married                 object\n",
       "Dependents              object\n",
       "Education               object\n",
       "Self_Employed           object\n",
       "ApplicantIncome          int64\n",
       "CoapplicantIncome      float64\n",
       "LoanAmount             float64\n",
       "Loan_Amount_Term       float64\n",
       "Credit_History         float64\n",
       "Property_Area           object\n",
       "Loan_Status             object\n",
       "ApplicantIncome_log    float64\n",
       "LoanAmount_log         float64\n",
       "dtype: object"
      ]
     },
     "execution_count": 73,
     "metadata": {},
     "output_type": "execute_result"
    }
   ],
   "source": [
    "train.dtypes"
   ]
  },
  {
   "cell_type": "code",
   "execution_count": 74,
   "metadata": {},
   "outputs": [],
   "source": [
    "from sklearn import preprocessing\n",
    "# ez működik, ezt kell replikálni\n",
    "for x in train.columns:\n",
    "    if train[x].dtype == 'object':\n",
    "        # Encode labels with value between 0 and n_classes-1.\n",
    "        lbl = preprocessing.LabelEncoder()\n",
    "        \n",
    "        # Fit label encoder\n",
    "        lbl.fit(list(train[x].values))\n",
    "        \n",
    "        # Transform labels to normalized encoding.\n",
    "        train[x] = lbl.transform(list(train[x].values))"
   ]
  },
  {
   "cell_type": "code",
   "execution_count": 75,
   "metadata": {},
   "outputs": [
    {
     "data": {
      "text/plain": [
       "Loan_ID                  int64\n",
       "Gender                   int64\n",
       "Married                  int64\n",
       "Dependents               int64\n",
       "Education                int64\n",
       "Self_Employed            int64\n",
       "ApplicantIncome          int64\n",
       "CoapplicantIncome      float64\n",
       "LoanAmount             float64\n",
       "Loan_Amount_Term       float64\n",
       "Credit_History         float64\n",
       "Property_Area            int64\n",
       "Loan_Status              int64\n",
       "ApplicantIncome_log    float64\n",
       "LoanAmount_log         float64\n",
       "dtype: object"
      ]
     },
     "execution_count": 75,
     "metadata": {},
     "output_type": "execute_result"
    }
   ],
   "source": [
    "train.dtypes"
   ]
  },
  {
   "cell_type": "code",
   "execution_count": 76,
   "metadata": {},
   "outputs": [
    {
     "data": {
      "text/plain": [
       "Loan_ID                 object\n",
       "Gender                  object\n",
       "Married                 object\n",
       "Dependents              object\n",
       "Education               object\n",
       "Self_Employed           object\n",
       "ApplicantIncome          int64\n",
       "CoapplicantIncome      float64\n",
       "LoanAmount             float64\n",
       "Loan_Amount_Term       float64\n",
       "Credit_History         float64\n",
       "Property_Area           object\n",
       "Loan_Status             object\n",
       "ApplicantIncome_log    float64\n",
       "LoanAmount_log         float64\n",
       "TotalIncome            float64\n",
       "TotalIncome_log        float64\n",
       "dtype: object"
      ]
     },
     "execution_count": 76,
     "metadata": {},
     "output_type": "execute_result"
    }
   ],
   "source": [
    "train70.dtypes"
   ]
  },
  {
   "cell_type": "code",
   "execution_count": 77,
   "metadata": {},
   "outputs": [
    {
     "data": {
      "text/plain": [
       "Loan_ID                  int64\n",
       "Gender                   int64\n",
       "Married                  int64\n",
       "Dependents               int64\n",
       "Education                int64\n",
       "Self_Employed            int64\n",
       "ApplicantIncome          int64\n",
       "CoapplicantIncome      float64\n",
       "LoanAmount             float64\n",
       "Loan_Amount_Term       float64\n",
       "Credit_History         float64\n",
       "Property_Area            int64\n",
       "Loan_Status              int64\n",
       "ApplicantIncome_log    float64\n",
       "LoanAmount_log         float64\n",
       "TotalIncome            float64\n",
       "TotalIncome_log        float64\n",
       "dtype: object"
      ]
     },
     "execution_count": 77,
     "metadata": {},
     "output_type": "execute_result"
    }
   ],
   "source": [
    "# train70-re labelencoder\n",
    "for x in train70.columns:\n",
    "    if train70[x].dtype == 'object':\n",
    "        # Encode labels with value between 0 and n_classes-1.\n",
    "        lbl = preprocessing.LabelEncoder()\n",
    "        \n",
    "        # Fit label encoder\n",
    "        lbl.fit(list(train70[x].values))\n",
    "        \n",
    "        # Transform labels to normalized encoding.\n",
    "        train70[x] = lbl.transform(list(train70[x].values))\n",
    "train70.dtypes"
   ]
  },
  {
   "cell_type": "code",
   "execution_count": 78,
   "metadata": {},
   "outputs": [
    {
     "data": {
      "text/plain": [
       "Loan_ID                 object\n",
       "Gender                  object\n",
       "Married                 object\n",
       "Dependents              object\n",
       "Education               object\n",
       "Self_Employed           object\n",
       "ApplicantIncome          int64\n",
       "CoapplicantIncome      float64\n",
       "LoanAmount             float64\n",
       "Loan_Amount_Term       float64\n",
       "Credit_History         float64\n",
       "Property_Area           object\n",
       "Loan_Status             object\n",
       "ApplicantIncome_log    float64\n",
       "LoanAmount_log         float64\n",
       "dtype: object"
      ]
     },
     "execution_count": 78,
     "metadata": {},
     "output_type": "execute_result"
    }
   ],
   "source": [
    "train50.dtypes"
   ]
  },
  {
   "cell_type": "code",
   "execution_count": 79,
   "metadata": {},
   "outputs": [
    {
     "data": {
      "text/plain": [
       "Loan_ID                  int64\n",
       "Gender                   int64\n",
       "Married                  int64\n",
       "Dependents               int64\n",
       "Education                int64\n",
       "Self_Employed            int64\n",
       "ApplicantIncome          int64\n",
       "CoapplicantIncome      float64\n",
       "LoanAmount             float64\n",
       "Loan_Amount_Term       float64\n",
       "Credit_History         float64\n",
       "Property_Area            int64\n",
       "Loan_Status              int64\n",
       "ApplicantIncome_log    float64\n",
       "LoanAmount_log         float64\n",
       "dtype: object"
      ]
     },
     "execution_count": 79,
     "metadata": {},
     "output_type": "execute_result"
    }
   ],
   "source": [
    "# train50-re labelencoder\n",
    "for x in train50.columns:\n",
    "    if train50[x].dtype == 'object':\n",
    "        # Encode labels with value between 0 and n_classes-1.\n",
    "        lbl = preprocessing.LabelEncoder()\n",
    "        \n",
    "        # Fit label encoder\n",
    "        lbl.fit(list(train50[x].values))\n",
    "        \n",
    "        # Transform labels to normalized encoding.\n",
    "        train50[x] = lbl.transform(list(train50[x].values))\n",
    "train50.dtypes"
   ]
  },
  {
   "cell_type": "code",
   "execution_count": 80,
   "metadata": {},
   "outputs": [],
   "source": [
    "# train & test\n",
    "from sklearn.linear_model import LogisticRegression\n",
    "from sklearn.model_selection import StratifiedKFold   #For K-fold cross validation\n",
    "from sklearn.ensemble import RandomForestClassifier\n",
    "from sklearn.tree import DecisionTreeClassifier, export_graphviz\n",
    "from sklearn import metrics\n",
    "from sklearn.model_selection import KFold\n",
    "import matplotlib.pyplot as plt\n",
    "\n",
    "#Generic function for making a classification model and accessing performance:\n",
    "def classification_model(model, data, predictors, outcome):\n",
    "  \n",
    "#Fit the model:\n",
    "  model.fit(data[predictors],data[outcome])\n",
    "  \n",
    "  #Make predictions on training set:\n",
    "  predictions = model.predict(data[predictors])\n",
    "  \n",
    "  #Print accuracy\n",
    "  accuracy = metrics.accuracy_score(predictions,data[outcome])\n",
    "  print (\"Accuracy : %s\" % \"{0:.3%}\".format(accuracy))\n",
    "\n",
    "  #kijavítva\n",
    "    \n",
    "  #Perform k-fold cross-validation with 5 folds\n",
    "  kf = KFold(n_splits=5)\n",
    "  error = []\n",
    "  for train, test in kf.split(data):\n",
    "    # Filter training data\n",
    "    train_predictors = (data[predictors].iloc[train,:])\n",
    "    \n",
    "    # The target we're using to train the algorithm.\n",
    "    train_target = data[outcome].iloc[train]\n",
    "    \n",
    "    # Training the algorithm using the predictors and target.\n",
    "    model.fit(train_predictors, train_target)\n",
    "    \n",
    "    #Record error from each cross-validation run\n",
    "    error.append(model.score(data[predictors].iloc[test,:], data[outcome].iloc[test]))\n",
    " \n",
    "  print (\"Cross-Validation Score : %s\" % \"{0:.3%}\".format(np.mean(error)))\n",
    "    \n",
    "  #Fit the model again so that it can be refered outside the function:\n",
    "  model.fit(data[predictors],data[outcome])\n",
    "    \n",
    "  result = ('Cross-Validation Score','Accuracy')\n",
    "\n",
    "  x = np.arange(len(result))\n",
    "  y = [np.mean(error)*100,accuracy*100,]\n",
    "\n",
    "\n",
    "  plt.bar(x,y)\n",
    "  plt.xticks(x, result)\n",
    "  plt.xlabel('%')\n",
    "  plt.title('result')\n",
    "  \n",
    "\n",
    "  plt.show()"
   ]
  },
  {
   "cell_type": "code",
   "execution_count": 81,
   "metadata": {},
   "outputs": [
    {
     "data": {
      "text/plain": [
       "Loan_ID                 0\n",
       "Gender                  0\n",
       "Married                 0\n",
       "Dependents              0\n",
       "Education               0\n",
       "Self_Employed           0\n",
       "ApplicantIncome         0\n",
       "CoapplicantIncome       0\n",
       "LoanAmount             22\n",
       "Loan_Amount_Term       14\n",
       "Credit_History         50\n",
       "Property_Area           0\n",
       "Loan_Status             0\n",
       "ApplicantIncome_log     0\n",
       "LoanAmount_log          0\n",
       "dtype: int64"
      ]
     },
     "execution_count": 81,
     "metadata": {},
     "output_type": "execute_result"
    }
   ],
   "source": [
    "train.isnull().sum()"
   ]
  },
  {
   "cell_type": "code",
   "execution_count": 82,
   "metadata": {},
   "outputs": [],
   "source": [
    "# elimináljuk a hiányzó elemeket a train-ből\n",
    "train['LoanAmount'].fillna(train['LoanAmount'].mean(), inplace=True)\n",
    "train['Loan_Amount_Term'].fillna(train['Loan_Amount_Term'].mode()[0], inplace=True)\n",
    "train['Credit_History'].fillna(train['Credit_History'].mode()[0], inplace=True)"
   ]
  },
  {
   "cell_type": "code",
   "execution_count": 83,
   "metadata": {},
   "outputs": [
    {
     "data": {
      "text/plain": [
       "Loan_ID                0\n",
       "Gender                 0\n",
       "Married                0\n",
       "Dependents             0\n",
       "Education              0\n",
       "Self_Employed          0\n",
       "ApplicantIncome        0\n",
       "CoapplicantIncome      0\n",
       "LoanAmount             0\n",
       "Loan_Amount_Term       0\n",
       "Credit_History         0\n",
       "Property_Area          0\n",
       "Loan_Status            0\n",
       "ApplicantIncome_log    0\n",
       "LoanAmount_log         0\n",
       "dtype: int64"
      ]
     },
     "execution_count": 83,
     "metadata": {},
     "output_type": "execute_result"
    }
   ],
   "source": [
    "train.isnull().sum()"
   ]
  },
  {
   "cell_type": "code",
   "execution_count": 84,
   "metadata": {},
   "outputs": [
    {
     "name": "stdout",
     "output_type": "stream",
     "text": [
      "Accuracy : 80.945%\n",
      "Cross-Validation Score : 80.946%\n"
     ]
    },
    {
     "data": {
      "image/png": "[encoded data removed]",
      "text/plain": [
       "<Figure size 432x288 with 1 Axes>"
      ]
     },
     "metadata": {
      "needs_background": "light"
     },
     "output_type": "display_data"
    }
   ],
   "source": [
    "# logistic regression train-re\n",
    "outcome_var = 'Loan_Status'\n",
    "model = LogisticRegression()\n",
    "predictor_var = ['Credit_History']\n",
    "classification_model(model,train, predictor_var, outcome_var)"
   ]
  },
  {
   "cell_type": "code",
   "execution_count": 85,
   "metadata": {},
   "outputs": [
    {
     "name": "stdout",
     "output_type": "stream",
     "text": [
      "Accuracy : 68.730%\n",
      "Cross-Validation Score : 68.729%\n"
     ]
    },
    {
     "data": {
      "image/png": "[encoded data removed]",
      "text/plain": [
       "<Figure size 432x288 with 1 Axes>"
      ]
     },
     "metadata": {
      "needs_background": "light"
     },
     "output_type": "display_data"
    }
   ],
   "source": [
    "# logistic regression train-re - education alapján\n",
    "outcome_var = 'Loan_Status'\n",
    "model = LogisticRegression()\n",
    "predictor_var = ['Education']\n",
    "classification_model(model,train, predictor_var, outcome_var)"
   ]
  },
  {
   "cell_type": "code",
   "execution_count": 86,
   "metadata": {},
   "outputs": [
    {
     "name": "stdout",
     "output_type": "stream",
     "text": [
      "Accuracy : 80.945%\n",
      "Cross-Validation Score : 80.946%\n"
     ]
    },
    {
     "data": {
      "image/png": "[encoded data removed]",
      "text/plain": [
       "<Figure size 432x288 with 1 Axes>"
      ]
     },
     "metadata": {
      "needs_background": "light"
     },
     "output_type": "display_data"
    }
   ],
   "source": [
    "# logistic regression train-re - több prediktor alapján\n",
    "outcome_var = 'Loan_Status'\n",
    "model = LogisticRegression()\n",
    "predictor_var = ['Credit_History','Gender','Married','Education','LoanAmount_log']\n",
    "classification_model(model,train, predictor_var, outcome_var)\n",
    "# ez már egész elfogadható"
   ]
  },
  {
   "cell_type": "code",
   "execution_count": 87,
   "metadata": {},
   "outputs": [
    {
     "data": {
      "text/plain": [
       "Loan_ID                 object\n",
       "Gender                  object\n",
       "Married                 object\n",
       "Dependents              object\n",
       "Education               object\n",
       "Self_Employed           object\n",
       "ApplicantIncome          int64\n",
       "CoapplicantIncome      float64\n",
       "LoanAmount             float64\n",
       "Loan_Amount_Term       float64\n",
       "Credit_History         float64\n",
       "Property_Area           object\n",
       "Loan_Status             object\n",
       "ApplicantIncome_log    float64\n",
       "LoanAmount_log         float64\n",
       "dtype: object"
      ]
     },
     "execution_count": 87,
     "metadata": {},
     "output_type": "execute_result"
    }
   ],
   "source": [
    "test30.dtypes"
   ]
  },
  {
   "cell_type": "code",
   "execution_count": 88,
   "metadata": {},
   "outputs": [
    {
     "data": {
      "text/plain": [
       "Loan_ID                 0\n",
       "Gender                  8\n",
       "Married                 0\n",
       "Dependents              2\n",
       "Education               0\n",
       "Self_Employed          14\n",
       "ApplicantIncome         0\n",
       "CoapplicantIncome       0\n",
       "LoanAmount              7\n",
       "Loan_Amount_Term        5\n",
       "Credit_History         28\n",
       "Property_Area           0\n",
       "Loan_Status            96\n",
       "ApplicantIncome_log     0\n",
       "LoanAmount_log          0\n",
       "dtype: int64"
      ]
     },
     "execution_count": 88,
     "metadata": {},
     "output_type": "execute_result"
    }
   ],
   "source": [
    "test30.isnull().sum()"
   ]
  },
  {
   "cell_type": "code",
   "execution_count": 89,
   "metadata": {},
   "outputs": [
    {
     "data": {
      "text/plain": [
       "Loan_ID                0\n",
       "Gender                 0\n",
       "Married                0\n",
       "Dependents             0\n",
       "Education              0\n",
       "Self_Employed          0\n",
       "ApplicantIncome        0\n",
       "CoapplicantIncome      0\n",
       "LoanAmount             0\n",
       "Loan_Amount_Term       0\n",
       "Credit_History         0\n",
       "Property_Area          0\n",
       "Loan_Status            0\n",
       "ApplicantIncome_log    0\n",
       "LoanAmount_log         0\n",
       "dtype: int64"
      ]
     },
     "execution_count": 89,
     "metadata": {},
     "output_type": "execute_result"
    }
   ],
   "source": [
    "# elimináljuk a hiányzó elemeket a test30-ból\n",
    "test30['Gender'].fillna(test30['Gender'].mode()[0], inplace=True)\n",
    "test30['Married'].fillna(test30['Married'].mode()[0], inplace=True)\n",
    "test30['Dependents'].fillna(test30['Dependents'].mode()[0], inplace=True)\n",
    "test30['Self_Employed'].fillna(test30['Self_Employed'].mode()[0], inplace=True)\n",
    "\n",
    "\n",
    "test30['LoanAmount'].fillna(test30['LoanAmount'].mean(), inplace=True)\n",
    "test30['Loan_Amount_Term'].fillna(test30['Loan_Amount_Term'].mode()[0], inplace=True)\n",
    "test30['Credit_History'].fillna(test30['Credit_History'].mode()[0], inplace=True)\n",
    "test30['Loan_Status'].fillna(test30['Loan_Status'].mode()[0], inplace=True)\n",
    "\n",
    "test30.isnull().sum()"
   ]
  },
  {
   "cell_type": "code",
   "execution_count": 90,
   "metadata": {},
   "outputs": [
    {
     "data": {
      "text/plain": [
       "Loan_ID                  int64\n",
       "Gender                   int64\n",
       "Married                  int64\n",
       "Dependents               int64\n",
       "Education                int64\n",
       "Self_Employed            int64\n",
       "ApplicantIncome          int64\n",
       "CoapplicantIncome      float64\n",
       "LoanAmount             float64\n",
       "Loan_Amount_Term       float64\n",
       "Credit_History         float64\n",
       "Property_Area            int64\n",
       "Loan_Status              int64\n",
       "ApplicantIncome_log    float64\n",
       "LoanAmount_log         float64\n",
       "dtype: object"
      ]
     },
     "execution_count": 90,
     "metadata": {},
     "output_type": "execute_result"
    }
   ],
   "source": [
    "# test30-ra labelencoder\n",
    "for x in test30.columns:\n",
    "    if test30[x].dtype == 'object':\n",
    "        # Encode labels with value between 0 and n_classes-1.\n",
    "        lbl = preprocessing.LabelEncoder()\n",
    "        \n",
    "        # Fit label encoder\n",
    "        lbl.fit(list(test30[x].values))\n",
    "        \n",
    "        # Transform labels to normalized encoding.\n",
    "        test30[x] = lbl.transform(list(test30[x].values))\n",
    "test30.dtypes"
   ]
  },
  {
   "cell_type": "code",
   "execution_count": 91,
   "metadata": {},
   "outputs": [],
   "source": [
    "# train70 & test30\n",
    "from sklearn.linear_model import LogisticRegression\n",
    "from sklearn.model_selection import StratifiedKFold   #For K-fold cross validation\n",
    "from sklearn.ensemble import RandomForestClassifier\n",
    "from sklearn.tree import DecisionTreeClassifier, export_graphviz\n",
    "from sklearn import metrics\n",
    "from sklearn.model_selection import KFold\n",
    "import matplotlib.pyplot as plt\n",
    "\n",
    "#Generic function for making a classification model and accessing performance:\n",
    "def classification_model(model, data, predictors, outcome):\n",
    "  \n",
    "#Fit the model:\n",
    "  model.fit(data[predictors],data[outcome])\n",
    "  \n",
    "  #Make predictions on training set:\n",
    "  predictions = model.predict(data[predictors])\n",
    "  \n",
    "  #Print accuracy\n",
    "  accuracy = metrics.accuracy_score(predictions,data[outcome])\n",
    "  print (\"Accuracy : %s\" % \"{0:.3%}\".format(accuracy))\n",
    "\n",
    "  #kijavítva\n",
    "    \n",
    "  #Perform k-fold cross-validation with 5 folds\n",
    "  kf = KFold(n_splits=5)\n",
    "  error = []\n",
    "  for train70, test30 in kf.split(data):\n",
    "    # Filter training data\n",
    "    train_predictors = (data[predictors].iloc[train70,:])\n",
    "    \n",
    "    # The target we're using to train the algorithm.\n",
    "    train_target = data[outcome].iloc[train70]\n",
    "    \n",
    "    # Training the algorithm using the predictors and target.\n",
    "    model.fit(train_predictors, train_target)\n",
    "    \n",
    "    #Record error from each cross-validation run\n",
    "    error.append(model.score(data[predictors].iloc[test30,:], data[outcome].iloc[test30]))\n",
    " \n",
    "  print (\"Cross-Validation Score : %s\" % \"{0:.3%}\".format(np.mean(error)))\n",
    "    \n",
    "  #Fit the model again so that it can be refered outside the function:\n",
    "  model.fit(data[predictors],data[outcome])\n",
    "    \n",
    "  result = ('Cross-Validation Score','Accuracy')\n",
    "\n",
    "  x = np.arange(len(result))\n",
    "  y = [np.mean(error)*100,accuracy*100,]\n",
    "\n",
    "\n",
    "  plt.bar(x,y)\n",
    "  plt.xticks(x, result)\n",
    "  plt.xlabel('%')\n",
    "  plt.title('result')\n",
    "  \n",
    "\n",
    "  plt.show()"
   ]
  },
  {
   "cell_type": "code",
   "execution_count": 92,
   "metadata": {},
   "outputs": [
    {
     "data": {
      "text/plain": [
       "Loan_ID                  int64\n",
       "Gender                   int64\n",
       "Married                  int64\n",
       "Dependents               int64\n",
       "Education                int64\n",
       "Self_Employed            int64\n",
       "ApplicantIncome          int64\n",
       "CoapplicantIncome      float64\n",
       "LoanAmount             float64\n",
       "Loan_Amount_Term       float64\n",
       "Credit_History         float64\n",
       "Property_Area            int64\n",
       "Loan_Status              int64\n",
       "ApplicantIncome_log    float64\n",
       "LoanAmount_log         float64\n",
       "TotalIncome            float64\n",
       "TotalIncome_log        float64\n",
       "dtype: object"
      ]
     },
     "execution_count": 92,
     "metadata": {},
     "output_type": "execute_result"
    }
   ],
   "source": [
    "train70.dtypes"
   ]
  },
  {
   "cell_type": "code",
   "execution_count": 93,
   "metadata": {},
   "outputs": [
    {
     "data": {
      "text/plain": [
       "Loan_ID                 0\n",
       "Gender                  0\n",
       "Married                 0\n",
       "Dependents              0\n",
       "Education               0\n",
       "Self_Employed           0\n",
       "ApplicantIncome         0\n",
       "CoapplicantIncome       0\n",
       "LoanAmount             22\n",
       "Loan_Amount_Term       15\n",
       "Credit_History         50\n",
       "Property_Area           0\n",
       "Loan_Status             0\n",
       "ApplicantIncome_log     0\n",
       "LoanAmount_log          0\n",
       "TotalIncome             0\n",
       "TotalIncome_log         0\n",
       "dtype: int64"
      ]
     },
     "execution_count": 93,
     "metadata": {},
     "output_type": "execute_result"
    }
   ],
   "source": [
    "train70.isnull().sum()"
   ]
  },
  {
   "cell_type": "code",
   "execution_count": 94,
   "metadata": {},
   "outputs": [
    {
     "data": {
      "text/plain": [
       "Loan_ID                0\n",
       "Gender                 0\n",
       "Married                0\n",
       "Dependents             0\n",
       "Education              0\n",
       "Self_Employed          0\n",
       "ApplicantIncome        0\n",
       "CoapplicantIncome      0\n",
       "LoanAmount             0\n",
       "Loan_Amount_Term       0\n",
       "Credit_History         0\n",
       "Property_Area          0\n",
       "Loan_Status            0\n",
       "ApplicantIncome_log    0\n",
       "LoanAmount_log         0\n",
       "TotalIncome            0\n",
       "TotalIncome_log        0\n",
       "dtype: int64"
      ]
     },
     "execution_count": 94,
     "metadata": {},
     "output_type": "execute_result"
    }
   ],
   "source": [
    "# elimináljuk a hiányzó elemeket a train70-ből\n",
    "train70['LoanAmount'].fillna(train70['LoanAmount'].mean(), inplace=True)\n",
    "train70['Loan_Amount_Term'].fillna(train70['Loan_Amount_Term'].mode()[0], inplace=True)\n",
    "train70['Credit_History'].fillna(train70['Credit_History'].mode()[0], inplace=True)\n",
    "train70.isnull().sum()"
   ]
  },
  {
   "cell_type": "code",
   "execution_count": 95,
   "metadata": {},
   "outputs": [
    {
     "name": "stdout",
     "output_type": "stream",
     "text": [
      "Accuracy : 50.364%\n",
      "Cross-Validation Score : 50.371%\n"
     ]
    },
    {
     "data": {
      "image/png": "[encoded data removed]",
      "text/plain": [
       "<Figure size 432x288 with 1 Axes>"
      ]
     },
     "metadata": {
      "needs_background": "light"
     },
     "output_type": "display_data"
    }
   ],
   "source": [
    "# logistic regression train70-re\n",
    "outcome_var = 'Loan_Status'\n",
    "model = LogisticRegression()\n",
    "predictor_var = ['Credit_History']\n",
    "classification_model(model,train70, predictor_var, outcome_var)\n",
    "# gyenge"
   ]
  },
  {
   "cell_type": "code",
   "execution_count": 96,
   "metadata": {},
   "outputs": [
    {
     "name": "stdout",
     "output_type": "stream",
     "text": [
      "Accuracy : 44.978%\n",
      "Cross-Validation Score : 44.977%\n"
     ]
    },
    {
     "data": {
      "image/png": "[encoded data removed]",
      "text/plain": [
       "<Figure size 432x288 with 1 Axes>"
      ]
     },
     "metadata": {
      "needs_background": "light"
     },
     "output_type": "display_data"
    }
   ],
   "source": [
    "# logistic regression train70-re - education alapján\n",
    "outcome_var = 'Loan_Status'\n",
    "model = LogisticRegression()\n",
    "predictor_var = ['Education']\n",
    "classification_model(model,train70, predictor_var, outcome_var)\n",
    "# gyenge"
   ]
  },
  {
   "cell_type": "code",
   "execution_count": 97,
   "metadata": {},
   "outputs": [
    {
     "name": "stdout",
     "output_type": "stream",
     "text": [
      "Accuracy : 49.782%\n",
      "Cross-Validation Score : 48.474%\n"
     ]
    },
    {
     "data": {
      "image/png": "[encoded data removed]",
      "text/plain": [
       "<Figure size 432x288 with 1 Axes>"
      ]
     },
     "metadata": {
      "needs_background": "light"
     },
     "output_type": "display_data"
    }
   ],
   "source": [
    "# logistic regression train70-re , több prediktorral\n",
    "outcome_var = 'Loan_Status'\n",
    "model = LogisticRegression()\n",
    "predictor_var = ['Credit_History','Gender','Married','Education','LoanAmount_log']\n",
    "classification_model(model,train70, predictor_var, outcome_var)\n",
    "# még ez is elég gyenge"
   ]
  },
  {
   "cell_type": "code",
   "execution_count": 98,
   "metadata": {},
   "outputs": [
    {
     "name": "stdout",
     "output_type": "stream",
     "text": [
      "Accuracy : 93.322%\n",
      "Cross-Validation Score : 69.548%\n"
     ]
    },
    {
     "data": {
      "image/png": "[encoded data removed]",
      "text/plain": [
       "<Figure size 432x288 with 1 Axes>"
      ]
     },
     "metadata": {
      "needs_background": "light"
     },
     "output_type": "display_data"
    }
   ],
   "source": [
    "# DecisionTreeClassifier train-re\n",
    "model = DecisionTreeClassifier()\n",
    "predictor_var = ['Credit_History','Gender','Married','Education','LoanAmount_log']\n",
    "classification_model(model, train ,predictor_var, outcome_var)\n",
    "# túltanulás tapasztalható , gyenge a cross validation érték"
   ]
  },
  {
   "cell_type": "code",
   "execution_count": 99,
   "metadata": {},
   "outputs": [
    {
     "name": "stdout",
     "output_type": "stream",
     "text": [
      "Accuracy : 83.697%\n",
      "Cross-Validation Score : 40.032%\n"
     ]
    },
    {
     "data": {
      "image/png": "[encoded data removed]",
      "text/plain": [
       "<Figure size 432x288 with 1 Axes>"
      ]
     },
     "metadata": {
      "needs_background": "light"
     },
     "output_type": "display_data"
    }
   ],
   "source": [
    "# DecisionTreeClassifier train70-re\n",
    "model = DecisionTreeClassifier()\n",
    "predictor_var = ['Credit_History','Gender','Married','Education','LoanAmount_log']\n",
    "classification_model(model, train70 ,predictor_var, outcome_var)\n",
    "# túltanulás tapasztalható , gyenge a cross validation érték"
   ]
  },
  {
   "cell_type": "code",
   "execution_count": 100,
   "metadata": {},
   "outputs": [
    {
     "data": {
      "text/plain": [
       "Loan_ID                  int64\n",
       "Gender                   int64\n",
       "Married                  int64\n",
       "Dependents               int64\n",
       "Education                int64\n",
       "Self_Employed            int64\n",
       "ApplicantIncome          int64\n",
       "CoapplicantIncome      float64\n",
       "LoanAmount             float64\n",
       "Loan_Amount_Term       float64\n",
       "Credit_History         float64\n",
       "Property_Area            int64\n",
       "Loan_Status              int64\n",
       "ApplicantIncome_log    float64\n",
       "LoanAmount_log         float64\n",
       "dtype: object"
      ]
     },
     "execution_count": 100,
     "metadata": {},
     "output_type": "execute_result"
    }
   ],
   "source": [
    "#nézzük meg train50-re is\n",
    "train50.dtypes"
   ]
  },
  {
   "cell_type": "code",
   "execution_count": 101,
   "metadata": {},
   "outputs": [
    {
     "data": {
      "text/plain": [
       "Loan_ID                 0\n",
       "Gender                  0\n",
       "Married                 0\n",
       "Dependents              0\n",
       "Education               0\n",
       "Self_Employed           0\n",
       "ApplicantIncome         0\n",
       "CoapplicantIncome       0\n",
       "LoanAmount             14\n",
       "Loan_Amount_Term        9\n",
       "Credit_History         43\n",
       "Property_Area           0\n",
       "Loan_Status             0\n",
       "ApplicantIncome_log     0\n",
       "LoanAmount_log          0\n",
       "dtype: int64"
      ]
     },
     "execution_count": 101,
     "metadata": {},
     "output_type": "execute_result"
    }
   ],
   "source": [
    "train50.isnull().sum()"
   ]
  },
  {
   "cell_type": "code",
   "execution_count": 102,
   "metadata": {},
   "outputs": [
    {
     "data": {
      "text/plain": [
       "Loan_ID                0\n",
       "Gender                 0\n",
       "Married                0\n",
       "Dependents             0\n",
       "Education              0\n",
       "Self_Employed          0\n",
       "ApplicantIncome        0\n",
       "CoapplicantIncome      0\n",
       "LoanAmount             0\n",
       "Loan_Amount_Term       0\n",
       "Credit_History         0\n",
       "Property_Area          0\n",
       "Loan_Status            0\n",
       "ApplicantIncome_log    0\n",
       "LoanAmount_log         0\n",
       "dtype: int64"
      ]
     },
     "execution_count": 102,
     "metadata": {},
     "output_type": "execute_result"
    }
   ],
   "source": [
    "# elimináljuk a hiányzó elemeket a train50-ből\n",
    "train50['LoanAmount'].fillna(train50['LoanAmount'].mean(), inplace=True)\n",
    "train50['Loan_Amount_Term'].fillna(train50['Loan_Amount_Term'].mode()[0], inplace=True)\n",
    "train50['Credit_History'].fillna(train50['Credit_History'].mode()[0], inplace=True)\n",
    "train50.isnull().sum()"
   ]
  },
  {
   "cell_type": "code",
   "execution_count": 103,
   "metadata": {},
   "outputs": [
    {
     "name": "stdout",
     "output_type": "stream",
     "text": [
      "Accuracy : 49.592%\n",
      "Cross-Validation Score : 47.959%\n"
     ]
    },
    {
     "data": {
      "image/png": "[encoded data removed]",
      "text/plain": [
       "<Figure size 432x288 with 1 Axes>"
      ]
     },
     "metadata": {
      "needs_background": "light"
     },
     "output_type": "display_data"
    }
   ],
   "source": [
    "# logistic regression train50-re\n",
    "outcome_var = 'Loan_Status'\n",
    "model = LogisticRegression()\n",
    "predictor_var = ['Credit_History']\n",
    "classification_model(model,train50, predictor_var, outcome_var)\n",
    "# gyenge"
   ]
  },
  {
   "cell_type": "code",
   "execution_count": 104,
   "metadata": {},
   "outputs": [
    {
     "name": "stdout",
     "output_type": "stream",
     "text": [
      "Accuracy : 42.449%\n",
      "Cross-Validation Score : 36.939%\n"
     ]
    },
    {
     "data": {
      "image/png": "[encoded data removed]",
      "text/plain": [
       "<Figure size 432x288 with 1 Axes>"
      ]
     },
     "metadata": {
      "needs_background": "light"
     },
     "output_type": "display_data"
    }
   ],
   "source": [
    "# logistic regression train50-re Education alapján\n",
    "outcome_var = 'Loan_Status'\n",
    "model = LogisticRegression()\n",
    "predictor_var = ['Education']\n",
    "classification_model(model,train50, predictor_var, outcome_var)\n",
    "# gyenge"
   ]
  },
  {
   "cell_type": "code",
   "execution_count": 105,
   "metadata": {},
   "outputs": [
    {
     "name": "stdout",
     "output_type": "stream",
     "text": [
      "Accuracy : 48.163%\n",
      "Cross-Validation Score : 45.306%\n"
     ]
    },
    {
     "data": {
      "image/png": "[encoded data removed]",
      "text/plain": [
       "<Figure size 432x288 with 1 Axes>"
      ]
     },
     "metadata": {
      "needs_background": "light"
     },
     "output_type": "display_data"
    }
   ],
   "source": [
    "# logistic regression train50-re , több prediktorral\n",
    "outcome_var = 'Loan_Status'\n",
    "model = LogisticRegression()\n",
    "predictor_var = ['Credit_History','Gender','Married','Education','LoanAmount_log']\n",
    "classification_model(model,train50, predictor_var, outcome_var)\n",
    "# még ez is elég gyenge"
   ]
  },
  {
   "cell_type": "code",
   "execution_count": 106,
   "metadata": {},
   "outputs": [
    {
     "name": "stdout",
     "output_type": "stream",
     "text": [
      "Accuracy : 86.122%\n",
      "Cross-Validation Score : 40.612%\n"
     ]
    },
    {
     "data": {
      "image/png": "[encoded data removed]",
      "text/plain": [
       "<Figure size 432x288 with 1 Axes>"
      ]
     },
     "metadata": {
      "needs_background": "light"
     },
     "output_type": "display_data"
    }
   ],
   "source": [
    "# DecisionTreeClassifier train50-re\n",
    "model = DecisionTreeClassifier()\n",
    "predictor_var = ['Credit_History','Gender','Married','Education','LoanAmount_log']\n",
    "classification_model(model, train50 ,predictor_var, outcome_var)\n",
    "# túltanulás tapasztalható , gyenge a cross validation érték"
   ]
  },
  {
   "cell_type": "code",
   "execution_count": 107,
   "metadata": {},
   "outputs": [
    {
     "data": {
      "text/plain": [
       "Loan_ID                 object\n",
       "Gender                  object\n",
       "Married                 object\n",
       "Dependents              object\n",
       "Education               object\n",
       "Self_Employed           object\n",
       "ApplicantIncome          int64\n",
       "CoapplicantIncome      float64\n",
       "LoanAmount             float64\n",
       "Loan_Amount_Term       float64\n",
       "Credit_History         float64\n",
       "Property_Area           object\n",
       "Loan_Status             object\n",
       "ApplicantIncome_log    float64\n",
       "LoanAmount_log         float64\n",
       "dtype: object"
      ]
     },
     "execution_count": 107,
     "metadata": {},
     "output_type": "execute_result"
    }
   ],
   "source": [
    "#nézzük meg trainrandom-ra is\n",
    "trainrandom.dtypes"
   ]
  },
  {
   "cell_type": "code",
   "execution_count": 108,
   "metadata": {},
   "outputs": [
    {
     "data": {
      "text/plain": [
       "Loan_ID                  int64\n",
       "Gender                   int64\n",
       "Married                  int64\n",
       "Dependents               int64\n",
       "Education                int64\n",
       "Self_Employed            int64\n",
       "ApplicantIncome          int64\n",
       "CoapplicantIncome      float64\n",
       "LoanAmount             float64\n",
       "Loan_Amount_Term       float64\n",
       "Credit_History         float64\n",
       "Property_Area            int64\n",
       "Loan_Status              int64\n",
       "ApplicantIncome_log    float64\n",
       "LoanAmount_log         float64\n",
       "dtype: object"
      ]
     },
     "execution_count": 108,
     "metadata": {},
     "output_type": "execute_result"
    }
   ],
   "source": [
    "# trainrandom-ra labelencoder\n",
    "for x in trainrandom.columns:\n",
    "    if trainrandom[x].dtype == 'object':\n",
    "        # Encode labels with value between 0 and n_classes-1.\n",
    "        lbl = preprocessing.LabelEncoder()\n",
    "        \n",
    "        # Fit label encoder\n",
    "        lbl.fit(list(trainrandom[x].values))\n",
    "        \n",
    "        # Transform labels to normalized encoding.\n",
    "        trainrandom[x] = lbl.transform(list(trainrandom[x].values))\n",
    "trainrandom.dtypes"
   ]
  },
  {
   "cell_type": "code",
   "execution_count": 109,
   "metadata": {},
   "outputs": [
    {
     "data": {
      "text/plain": [
       "Loan_ID                 0\n",
       "Gender                  0\n",
       "Married                 0\n",
       "Dependents              0\n",
       "Education               0\n",
       "Self_Employed           0\n",
       "ApplicantIncome         0\n",
       "CoapplicantIncome       0\n",
       "LoanAmount             21\n",
       "Loan_Amount_Term       12\n",
       "Credit_History         55\n",
       "Property_Area           0\n",
       "Loan_Status             0\n",
       "ApplicantIncome_log     0\n",
       "LoanAmount_log          0\n",
       "dtype: int64"
      ]
     },
     "execution_count": 109,
     "metadata": {},
     "output_type": "execute_result"
    }
   ],
   "source": [
    "trainrandom.isnull().sum()"
   ]
  },
  {
   "cell_type": "code",
   "execution_count": 110,
   "metadata": {},
   "outputs": [
    {
     "data": {
      "text/plain": [
       "Loan_ID                0\n",
       "Gender                 0\n",
       "Married                0\n",
       "Dependents             0\n",
       "Education              0\n",
       "Self_Employed          0\n",
       "ApplicantIncome        0\n",
       "CoapplicantIncome      0\n",
       "LoanAmount             0\n",
       "Loan_Amount_Term       0\n",
       "Credit_History         0\n",
       "Property_Area          0\n",
       "Loan_Status            0\n",
       "ApplicantIncome_log    0\n",
       "LoanAmount_log         0\n",
       "dtype: int64"
      ]
     },
     "execution_count": 110,
     "metadata": {},
     "output_type": "execute_result"
    }
   ],
   "source": [
    "# elimináljuk a hiányzó elemeket a trainrandom-ból\n",
    "trainrandom['LoanAmount'].fillna(trainrandom['LoanAmount'].mean(), inplace=True)\n",
    "trainrandom['Loan_Amount_Term'].fillna(trainrandom['Loan_Amount_Term'].mode()[0], inplace=True)\n",
    "trainrandom['Credit_History'].fillna(trainrandom['Credit_History'].mode()[0], inplace=True)\n",
    "trainrandom.isnull().sum()"
   ]
  },
  {
   "cell_type": "code",
   "execution_count": 111,
   "metadata": {},
   "outputs": [
    {
     "name": "stdout",
     "output_type": "stream",
     "text": [
      "Accuracy : 51.591%\n",
      "Cross-Validation Score : 50.248%\n"
     ]
    },
    {
     "data": {
      "image/png": "[encoded data removed]",
      "text/plain": [
       "<Figure size 432x288 with 1 Axes>"
      ]
     },
     "metadata": {
      "needs_background": "light"
     },
     "output_type": "display_data"
    }
   ],
   "source": [
    "# logistic regression trainrandom-ra\n",
    "outcome_var = 'Loan_Status'\n",
    "model = LogisticRegression()\n",
    "predictor_var = ['Credit_History']\n",
    "classification_model(model,trainrandom, predictor_var, outcome_var)\n",
    "# gyenge"
   ]
  },
  {
   "cell_type": "code",
   "execution_count": 112,
   "metadata": {},
   "outputs": [
    {
     "name": "stdout",
     "output_type": "stream",
     "text": [
      "Accuracy : 44.389%\n",
      "Cross-Validation Score : 44.389%\n"
     ]
    },
    {
     "data": {
      "image/png": "[encoded data removed]",
      "text/plain": [
       "<Figure size 432x288 with 1 Axes>"
      ]
     },
     "metadata": {
      "needs_background": "light"
     },
     "output_type": "display_data"
    }
   ],
   "source": [
    "# logistic regression trainrandom-ra Education alapján\n",
    "outcome_var = 'Loan_Status'\n",
    "model = LogisticRegression()\n",
    "predictor_var = ['Education']\n",
    "classification_model(model,trainrandom, predictor_var, outcome_var)\n",
    "# gyenge"
   ]
  },
  {
   "cell_type": "code",
   "execution_count": 113,
   "metadata": {},
   "outputs": [
    {
     "name": "stdout",
     "output_type": "stream",
     "text": [
      "Accuracy : 51.256%\n",
      "Cross-Validation Score : 50.416%\n"
     ]
    },
    {
     "data": {
      "image/png": "[encoded data removed]",
      "text/plain": [
       "<Figure size 432x288 with 1 Axes>"
      ]
     },
     "metadata": {
      "needs_background": "light"
     },
     "output_type": "display_data"
    }
   ],
   "source": [
    "# logistic regression trainrandom-ra , több prediktorral\n",
    "outcome_var = 'Loan_Status'\n",
    "model = LogisticRegression()\n",
    "predictor_var = ['Credit_History','Gender','Married','Education','LoanAmount_log']\n",
    "classification_model(model,trainrandom, predictor_var, outcome_var)\n",
    "# még ez is elég gyenge"
   ]
  },
  {
   "cell_type": "code",
   "execution_count": 114,
   "metadata": {},
   "outputs": [
    {
     "name": "stdout",
     "output_type": "stream",
     "text": [
      "Accuracy : 86.600%\n",
      "Cross-Validation Score : 40.035%\n"
     ]
    },
    {
     "data": {
      "image/png": "[encoded data removed]",
      "text/plain": [
       "<Figure size 432x288 with 1 Axes>"
      ]
     },
     "metadata": {
      "needs_background": "light"
     },
     "output_type": "display_data"
    }
   ],
   "source": [
    "# DecisionTreeClassifier trainrandom-ra\n",
    "model = DecisionTreeClassifier()\n",
    "predictor_var = ['Credit_History','Gender','Married','Education','LoanAmount_log']\n",
    "classification_model(model, trainrandom ,predictor_var, outcome_var)\n",
    "# túltanulás tapasztalható , gyenge a cross validation érték"
   ]
  },
  {
   "cell_type": "code",
   "execution_count": 115,
   "metadata": {},
   "outputs": [
    {
     "name": "stdout",
     "output_type": "stream",
     "text": [
      "Accuracy : 99.349%\n",
      "Cross-Validation Score : 75.568%\n"
     ]
    },
    {
     "data": {
      "image/png": "[encoded data removed]",
      "text/plain": [
       "<Figure size 432x288 with 1 Axes>"
      ]
     },
     "metadata": {
      "needs_background": "light"
     },
     "output_type": "display_data"
    }
   ],
   "source": [
    "# random forest train-re\n",
    "model = RandomForestClassifier(n_estimators=100)\n",
    "predictor_var = ['Gender', 'Married', 'Dependents', 'Education',\n",
    "       'Self_Employed', 'Loan_Amount_Term', 'Credit_History', 'Property_Area','LoanAmount_log']\n",
    "classification_model(model,train, predictor_var, outcome_var)\n",
    "# túltanulás tapasztalható , gyenge a cross validation érték"
   ]
  },
  {
   "cell_type": "code",
   "execution_count": 116,
   "metadata": {},
   "outputs": [
    {
     "name": "stdout",
     "output_type": "stream",
     "text": [
      "Accuracy : 97.525%\n",
      "Cross-Validation Score : 42.651%\n"
     ]
    },
    {
     "data": {
      "image/png": "[encoded data removed]",
      "text/plain": [
       "<Figure size 432x288 with 1 Axes>"
      ]
     },
     "metadata": {
      "needs_background": "light"
     },
     "output_type": "display_data"
    }
   ],
   "source": [
    "# random forest train70-re\n",
    "model = RandomForestClassifier(n_estimators=100)\n",
    "predictor_var = ['Gender', 'Married', 'Dependents', 'Education',\n",
    "       'Self_Employed', 'Loan_Amount_Term', 'Credit_History', 'Property_Area','LoanAmount_log']\n",
    "classification_model(model,train70, predictor_var, outcome_var)\n",
    "# túltanulás tapasztalható , gyenge a cross validation érték"
   ]
  },
  {
   "cell_type": "code",
   "execution_count": 117,
   "metadata": {},
   "outputs": [
    {
     "name": "stdout",
     "output_type": "stream",
     "text": [
      "Accuracy : 98.776%\n",
      "Cross-Validation Score : 43.265%\n"
     ]
    },
    {
     "data": {
      "image/png": "[encoded data removed]",
      "text/plain": [
       "<Figure size 432x288 with 1 Axes>"
      ]
     },
     "metadata": {
      "needs_background": "light"
     },
     "output_type": "display_data"
    }
   ],
   "source": [
    "# random forest train50-re\n",
    "model = RandomForestClassifier(n_estimators=100)\n",
    "predictor_var = ['Gender', 'Married', 'Dependents', 'Education',\n",
    "       'Self_Employed', 'Loan_Amount_Term', 'Credit_History', 'Property_Area','LoanAmount_log']\n",
    "classification_model(model,train50, predictor_var, outcome_var)\n",
    "# túltanulás tapasztalható , gyenge a cross validation érték"
   ]
  },
  {
   "cell_type": "code",
   "execution_count": 118,
   "metadata": {},
   "outputs": [
    {
     "name": "stdout",
     "output_type": "stream",
     "text": [
      "Accuracy : 98.660%\n",
      "Cross-Validation Score : 48.256%\n"
     ]
    },
    {
     "data": {
      "image/png": "[encoded data removed]",
      "text/plain": [
       "<Figure size 432x288 with 1 Axes>"
      ]
     },
     "metadata": {
      "needs_background": "light"
     },
     "output_type": "display_data"
    }
   ],
   "source": [
    "# random forest trainrandom-ra\n",
    "model = RandomForestClassifier(n_estimators=100)\n",
    "predictor_var = ['Gender', 'Married', 'Dependents', 'Education',\n",
    "       'Self_Employed', 'Loan_Amount_Term', 'Credit_History', 'Property_Area','LoanAmount_log']\n",
    "classification_model(model,trainrandom, predictor_var, outcome_var)\n",
    "# túltanulás tapasztalható , gyenge a cross validation érték"
   ]
  },
  {
   "cell_type": "code",
   "execution_count": 119,
   "metadata": {},
   "outputs": [
    {
     "name": "stdout",
     "output_type": "stream",
     "text": [
      "Accuracy : 81.759%\n",
      "Cross-Validation Score : 81.435%\n"
     ]
    },
    {
     "data": {
      "image/png": "[encoded data removed]",
      "text/plain": [
       "<Figure size 432x288 with 1 Axes>"
      ]
     },
     "metadata": {
      "needs_background": "light"
     },
     "output_type": "display_data"
    }
   ],
   "source": [
    "# próbáljunk meg igazítani ezen\n",
    "#train-re random forest igazítva\n",
    "model = RandomForestClassifier(n_estimators=25, min_samples_split=25, max_depth=7, max_features=1)\n",
    "predictor_var = ['LoanAmount_log','Credit_History','Dependents','Property_Area','Married','Education']\n",
    "classification_model(model, train, predictor_var, outcome_var)\n",
    "# na ez eddig a legjobb"
   ]
  },
  {
   "cell_type": "code",
   "execution_count": 120,
   "metadata": {},
   "outputs": [
    {
     "name": "stdout",
     "output_type": "stream",
     "text": [
      "Accuracy : 59.534%\n",
      "Cross-Validation Score : 44.099%\n"
     ]
    },
    {
     "data": {
      "image/png": "[encoded data removed]",
      "text/plain": [
       "<Figure size 432x288 with 1 Axes>"
      ]
     },
     "metadata": {
      "needs_background": "light"
     },
     "output_type": "display_data"
    }
   ],
   "source": [
    "#train70-re random forest igazítva\n",
    "model = RandomForestClassifier(n_estimators=25, min_samples_split=25, max_depth=7, max_features=1)\n",
    "predictor_var = ['LoanAmount_log','Credit_History','Dependents','Property_Area','Married','Education']\n",
    "classification_model(model, train70, predictor_var, outcome_var)\n",
    "# meh, ez még mindig nem elég"
   ]
  },
  {
   "cell_type": "code",
   "execution_count": 121,
   "metadata": {},
   "outputs": [
    {
     "name": "stdout",
     "output_type": "stream",
     "text": [
      "Accuracy : 60.000%\n",
      "Cross-Validation Score : 47.143%\n"
     ]
    },
    {
     "data": {
      "image/png": "[encoded data removed]",
      "text/plain": [
       "<Figure size 432x288 with 1 Axes>"
      ]
     },
     "metadata": {
      "needs_background": "light"
     },
     "output_type": "display_data"
    }
   ],
   "source": [
    "#train50-re random forest igazítva\n",
    "model = RandomForestClassifier(n_estimators=25, min_samples_split=25, max_depth=7, max_features=1)\n",
    "predictor_var = ['LoanAmount_log','Credit_History','Dependents','Property_Area','Married','Education']\n",
    "classification_model(model, train50, predictor_var, outcome_var)\n",
    "# meh, ez még mindig nem elég"
   ]
  },
  {
   "cell_type": "code",
   "execution_count": 122,
   "metadata": {},
   "outputs": [
    {
     "name": "stdout",
     "output_type": "stream",
     "text": [
      "Accuracy : 62.814%\n",
      "Cross-Validation Score : 47.751%\n"
     ]
    },
    {
     "data": {
      "image/png": "[encoded data removed]",
      "text/plain": [
       "<Figure size 432x288 with 1 Axes>"
      ]
     },
     "metadata": {
      "needs_background": "light"
     },
     "output_type": "display_data"
    }
   ],
   "source": [
    "#trainrandom-ra random forest igazítva\n",
    "model = RandomForestClassifier(n_estimators=25, min_samples_split=25, max_depth=7, max_features=1)\n",
    "predictor_var = ['LoanAmount_log','Credit_History','Dependents','Property_Area','Married','Education']\n",
    "classification_model(model, trainrandom, predictor_var, outcome_var)\n",
    "# meh, ez is gyenge"
   ]
  },
  {
   "cell_type": "code",
   "execution_count": 123,
   "metadata": {},
   "outputs": [
    {
     "data": {
      "text/plain": [
       "Loan_ID                0\n",
       "Gender                 0\n",
       "Married                0\n",
       "Dependents             0\n",
       "Education              0\n",
       "Self_Employed          0\n",
       "ApplicantIncome        0\n",
       "CoapplicantIncome      0\n",
       "LoanAmount             0\n",
       "Loan_Amount_Term       0\n",
       "Credit_History         0\n",
       "Property_Area          0\n",
       "Loan_Status          367\n",
       "TotalIncome          147\n",
       "TotalIncome_log      147\n",
       "dtype: int64"
      ]
     },
     "execution_count": 123,
     "metadata": {},
     "output_type": "execute_result"
    }
   ],
   "source": [
    "blind.isnull().sum()"
   ]
  },
  {
   "cell_type": "code",
   "execution_count": 124,
   "metadata": {},
   "outputs": [
    {
     "data": {
      "text/plain": [
       "Loan_ID                0\n",
       "Gender                 0\n",
       "Married                0\n",
       "Dependents             0\n",
       "Education              0\n",
       "Self_Employed          0\n",
       "ApplicantIncome        0\n",
       "CoapplicantIncome      0\n",
       "LoanAmount             0\n",
       "Loan_Amount_Term       0\n",
       "Credit_History         0\n",
       "Property_Area          0\n",
       "Loan_Status          367\n",
       "TotalIncome            0\n",
       "TotalIncome_log        0\n",
       "dtype: int64"
      ]
     },
     "execution_count": 124,
     "metadata": {},
     "output_type": "execute_result"
    }
   ],
   "source": [
    "#blind TotalIncome feltöltése\n",
    "blind['TotalIncome'] = blind['TotalIncome'].replace([np.NaN,np.inf,-np.inf,0],blind['TotalIncome'].mean())\n",
    "blind['TotalIncome_log'] = blind['TotalIncome_log'].replace([np.NaN,np.inf,-np.inf,0],blind['TotalIncome_log'].mean())\n",
    "blind.isnull().sum()"
   ]
  },
  {
   "cell_type": "code",
   "execution_count": 125,
   "metadata": {},
   "outputs": [
    {
     "data": {
      "text/plain": [
       "<matplotlib.axes._subplots.AxesSubplot at 0x1b3db82bc10>"
      ]
     },
     "execution_count": 125,
     "metadata": {},
     "output_type": "execute_result"
    },
    {
     "data": {
      "image/png": "[encoded data removed]",
      "text/plain": [
       "<Figure size 432x288 with 1 Axes>"
      ]
     },
     "metadata": {
      "needs_background": "light"
     },
     "output_type": "display_data"
    }
   ],
   "source": [
    "blind['Loan_Status'].hist()"
   ]
  },
  {
   "cell_type": "code",
   "execution_count": 126,
   "metadata": {},
   "outputs": [
    {
     "data": {
      "text/plain": [
       "Loan_ID               object\n",
       "Gender                object\n",
       "Married               object\n",
       "Dependents            object\n",
       "Education             object\n",
       "Self_Employed         object\n",
       "ApplicantIncome       object\n",
       "CoapplicantIncome    float64\n",
       "LoanAmount           float64\n",
       "Loan_Amount_Term     float64\n",
       "Credit_History       float64\n",
       "Property_Area         object\n",
       "Loan_Status           object\n",
       "TotalIncome          float64\n",
       "TotalIncome_log      float64\n",
       "dtype: object"
      ]
     },
     "execution_count": 126,
     "metadata": {},
     "output_type": "execute_result"
    }
   ],
   "source": [
    "blind.dtypes"
   ]
  },
  {
   "cell_type": "code",
   "execution_count": 127,
   "metadata": {},
   "outputs": [
    {
     "data": {
      "text/plain": [
       "Loan_ID                int64\n",
       "Gender                 int64\n",
       "Married                int64\n",
       "Dependents             int64\n",
       "Education              int64\n",
       "Self_Employed          int64\n",
       "ApplicantIncome        int64\n",
       "CoapplicantIncome    float64\n",
       "LoanAmount           float64\n",
       "Loan_Amount_Term     float64\n",
       "Credit_History       float64\n",
       "Property_Area          int64\n",
       "Loan_Status            int64\n",
       "TotalIncome          float64\n",
       "TotalIncome_log      float64\n",
       "dtype: object"
      ]
     },
     "execution_count": 127,
     "metadata": {},
     "output_type": "execute_result"
    }
   ],
   "source": [
    "#labelencoder blind-ra\n",
    "for x in blind.columns:\n",
    "    if blind[x].dtype == 'object':\n",
    "        # Encode labels with value between 0 and n_classes-1.\n",
    "        lbl = preprocessing.LabelEncoder()\n",
    "        \n",
    "        # Fit label encoder\n",
    "        lbl.fit(list(blind[x].values))\n",
    "        \n",
    "        # Transform labels to normalized encoding.\n",
    "        blind[x] = lbl.transform(list(blind[x].values))\n",
    "blind.dtypes"
   ]
  },
  {
   "cell_type": "code",
   "execution_count": 128,
   "metadata": {},
   "outputs": [],
   "source": [
    "# blind & test\n",
    "from sklearn.linear_model import LogisticRegression\n",
    "from sklearn.model_selection import StratifiedKFold   #For K-fold cross validation\n",
    "from sklearn.ensemble import RandomForestClassifier\n",
    "from sklearn.tree import DecisionTreeClassifier, export_graphviz\n",
    "from sklearn import metrics\n",
    "from sklearn.model_selection import KFold\n",
    "import matplotlib.pyplot as plt\n",
    "\n",
    "#Generic function for making a classification model and accessing performance:\n",
    "def classification_model(model, data, predictors, outcome):\n",
    "  \n",
    "#Fit the model:\n",
    "  model.fit(data[predictors],data[outcome])\n",
    "  \n",
    "  #Make predictions on training set:\n",
    "  predictions = model.predict(data[predictors])\n",
    "  \n",
    "  #Print accuracy\n",
    "  accuracy = metrics.accuracy_score(predictions,data[outcome])\n",
    "  print (\"Accuracy : %s\" % \"{0:.3%}\".format(accuracy))\n",
    "\n",
    "  #kijavítva\n",
    "    \n",
    "  #Perform k-fold cross-validation with 5 folds\n",
    "  kf = KFold(n_splits=5)\n",
    "  error = []\n",
    "  for blind, test in kf.split(data):\n",
    "    # Filter training data\n",
    "    train_predictors = (data[predictors].iloc[blind,:])\n",
    "    \n",
    "    # The target we're using to train the algorithm.\n",
    "    train_target = data[outcome].iloc[blind]\n",
    "    \n",
    "    # Training the algorithm using the predictors and target.\n",
    "    model.fit(train_predictors, train_target)\n",
    "    \n",
    "    #Record error from each cross-validation run\n",
    "    error.append(model.score(data[predictors].iloc[test,:], data[outcome].iloc[test]))\n",
    " \n",
    "  print (\"Cross-Validation Score : %s\" % \"{0:.3%}\".format(np.mean(error)))\n",
    "    \n",
    "  #Fit the model again so that it can be refered outside the function:\n",
    "  model.fit(data[predictors],data[outcome])\n",
    "    \n",
    "  result = ('Cross-Validation Score','Accuracy')\n",
    "\n",
    "  x = np.arange(len(result))\n",
    "  y = [np.mean(error)*100,accuracy*100,]\n",
    "\n",
    "\n",
    "  plt.bar(x,y)\n",
    "  plt.xticks(x, result)\n",
    "  plt.xlabel('%')\n",
    "  plt.title('result')\n",
    "  \n",
    "\n",
    "  plt.show()"
   ]
  },
  {
   "cell_type": "code",
   "execution_count": 129,
   "metadata": {},
   "outputs": [
    {
     "name": "stdout",
     "output_type": "stream",
     "text": [
      "Accuracy : 73.253%\n",
      "Cross-Validation Score : 73.246%\n"
     ]
    },
    {
     "data": {
      "image/png": "[encoded data removed]",
      "text/plain": [
       "<Figure size 432x288 with 1 Axes>"
      ]
     },
     "metadata": {
      "needs_background": "light"
     },
     "output_type": "display_data"
    }
   ],
   "source": [
    "# logistic regression blind-ra\n",
    "outcome_var = 'Loan_Status'\n",
    "model = LogisticRegression()\n",
    "predictor_var = ['Credit_History']\n",
    "classification_model(model,blind, predictor_var, outcome_var)"
   ]
  },
  {
   "cell_type": "code",
   "execution_count": 130,
   "metadata": {},
   "outputs": [
    {
     "name": "stdout",
     "output_type": "stream",
     "text": [
      "Accuracy : 73.253%\n",
      "Cross-Validation Score : 73.246%\n"
     ]
    },
    {
     "data": {
      "image/png": "[encoded data removed]",
      "text/plain": [
       "<Figure size 432x288 with 1 Axes>"
      ]
     },
     "metadata": {
      "needs_background": "light"
     },
     "output_type": "display_data"
    }
   ],
   "source": [
    "# logistic regression blind-ra Education alapján\n",
    "outcome_var = 'Loan_Status'\n",
    "model = LogisticRegression()\n",
    "predictor_var = ['Education']\n",
    "classification_model(model,blind, predictor_var, outcome_var)"
   ]
  },
  {
   "cell_type": "code",
   "execution_count": 131,
   "metadata": {},
   "outputs": [
    {
     "data": {
      "text/plain": [
       "<matplotlib.axes._subplots.AxesSubplot at 0x1b3ddeff040>"
      ]
     },
     "execution_count": 131,
     "metadata": {},
     "output_type": "execute_result"
    },
    {
     "data": {
      "image/png": "[encoded data removed]",
      "text/plain": [
       "<Figure size 1080x360 with 1 Axes>"
      ]
     },
     "metadata": {
      "needs_background": "light"
     },
     "output_type": "display_data"
    }
   ],
   "source": [
    "#LoanAmount_log blind-ra\n",
    "blind[\"LoanAmount_log\"] = np.log(blind[\"LoanAmount\"])\n",
    "blind[\"LoanAmount_log\"] = blind[\"LoanAmount_log\"].replace([np.inf,-np.inf,np.NaN],blind[\"LoanAmount_log\"].mean())\n",
    "blind[\"LoanAmount_log\"].hist(bins=20,figsize=(15,5))"
   ]
  },
  {
   "cell_type": "code",
   "execution_count": 132,
   "metadata": {},
   "outputs": [
    {
     "name": "stderr",
     "output_type": "stream",
     "text": [
      "C:\\Users\\Buzadara\\anaconda3\\lib\\site-packages\\sklearn\\linear_model\\_logistic.py:762: ConvergenceWarning: lbfgs failed to converge (status=1):\n",
      "STOP: TOTAL NO. of ITERATIONS REACHED LIMIT.\n",
      "\n",
      "Increase the number of iterations (max_iter) or scale the data as shown in:\n",
      "    https://scikit-learn.org/stable/modules/preprocessing.html\n",
      "Please also refer to the documentation for alternative solver options:\n",
      "    https://scikit-learn.org/stable/modules/linear_model.html#logistic-regression\n",
      "  n_iter_i = _check_optimize_result(\n",
      "C:\\Users\\Buzadara\\anaconda3\\lib\\site-packages\\sklearn\\linear_model\\_logistic.py:762: ConvergenceWarning: lbfgs failed to converge (status=1):\n",
      "STOP: TOTAL NO. of ITERATIONS REACHED LIMIT.\n",
      "\n",
      "Increase the number of iterations (max_iter) or scale the data as shown in:\n",
      "    https://scikit-learn.org/stable/modules/preprocessing.html\n",
      "Please also refer to the documentation for alternative solver options:\n",
      "    https://scikit-learn.org/stable/modules/linear_model.html#logistic-regression\n",
      "  n_iter_i = _check_optimize_result(\n",
      "C:\\Users\\Buzadara\\anaconda3\\lib\\site-packages\\sklearn\\linear_model\\_logistic.py:762: ConvergenceWarning: lbfgs failed to converge (status=1):\n",
      "STOP: TOTAL NO. of ITERATIONS REACHED LIMIT.\n",
      "\n",
      "Increase the number of iterations (max_iter) or scale the data as shown in:\n",
      "    https://scikit-learn.org/stable/modules/preprocessing.html\n",
      "Please also refer to the documentation for alternative solver options:\n",
      "    https://scikit-learn.org/stable/modules/linear_model.html#logistic-regression\n",
      "  n_iter_i = _check_optimize_result(\n"
     ]
    },
    {
     "name": "stdout",
     "output_type": "stream",
     "text": [
      "Accuracy : 73.253%\n",
      "Cross-Validation Score : 73.246%\n"
     ]
    },
    {
     "name": "stderr",
     "output_type": "stream",
     "text": [
      "C:\\Users\\Buzadara\\anaconda3\\lib\\site-packages\\sklearn\\linear_model\\_logistic.py:762: ConvergenceWarning: lbfgs failed to converge (status=1):\n",
      "STOP: TOTAL NO. of ITERATIONS REACHED LIMIT.\n",
      "\n",
      "Increase the number of iterations (max_iter) or scale the data as shown in:\n",
      "    https://scikit-learn.org/stable/modules/preprocessing.html\n",
      "Please also refer to the documentation for alternative solver options:\n",
      "    https://scikit-learn.org/stable/modules/linear_model.html#logistic-regression\n",
      "  n_iter_i = _check_optimize_result(\n"
     ]
    },
    {
     "data": {
      "image/png": "[encoded data removed]",
      "text/plain": [
       "<Figure size 432x288 with 1 Axes>"
      ]
     },
     "metadata": {
      "needs_background": "light"
     },
     "output_type": "display_data"
    }
   ],
   "source": [
    "# logistic regression blind-ra , több prediktorral\n",
    "outcome_var = 'Loan_Status'\n",
    "model = LogisticRegression()\n",
    "predictor_var = ['Credit_History','Gender','Married','Education','LoanAmount_log']\n",
    "classification_model(model,blind, predictor_var, outcome_var)"
   ]
  },
  {
   "cell_type": "code",
   "execution_count": 133,
   "metadata": {},
   "outputs": [
    {
     "name": "stdout",
     "output_type": "stream",
     "text": [
      "Accuracy : 91.018%\n",
      "Cross-Validation Score : 56.085%\n"
     ]
    },
    {
     "data": {
      "image/png": "[encoded data removed]",
      "text/plain": [
       "<Figure size 432x288 with 1 Axes>"
      ]
     },
     "metadata": {
      "needs_background": "light"
     },
     "output_type": "display_data"
    }
   ],
   "source": [
    "# DecisionTreeClassifier blind-ra\n",
    "model = DecisionTreeClassifier()\n",
    "predictor_var = ['Credit_History','Gender','Married','Education','LoanAmount_log']\n",
    "classification_model(model, blind ,predictor_var, outcome_var)"
   ]
  },
  {
   "cell_type": "code",
   "execution_count": 134,
   "metadata": {},
   "outputs": [
    {
     "name": "stdout",
     "output_type": "stream",
     "text": [
      "Accuracy : 97.605%\n",
      "Cross-Validation Score : 66.073%\n"
     ]
    },
    {
     "data": {
      "image/png": "[encoded data removed]",
      "text/plain": [
       "<Figure size 432x288 with 1 Axes>"
      ]
     },
     "metadata": {
      "needs_background": "light"
     },
     "output_type": "display_data"
    }
   ],
   "source": [
    "# blind-ra random forest\n",
    "model = RandomForestClassifier(n_estimators=100)\n",
    "predictor_var = ['Gender', 'Married', 'Dependents', 'Education',\n",
    "       'Self_Employed', 'Loan_Amount_Term', 'Credit_History', 'Property_Area','LoanAmount_log']\n",
    "classification_model(model,blind, predictor_var, outcome_var)"
   ]
  },
  {
   "cell_type": "code",
   "execution_count": 135,
   "metadata": {},
   "outputs": [
    {
     "name": "stdout",
     "output_type": "stream",
     "text": [
      "Accuracy : 73.852%\n",
      "Cross-Validation Score : 73.446%\n"
     ]
    },
    {
     "data": {
      "image/png": "[encoded data removed]",
      "text/plain": [
       "<Figure size 432x288 with 1 Axes>"
      ]
     },
     "metadata": {
      "needs_background": "light"
     },
     "output_type": "display_data"
    }
   ],
   "source": [
    "#blind-ra random forest igazítva\n",
    "model = RandomForestClassifier(n_estimators=25, min_samples_split=25, max_depth=7, max_features=1)\n",
    "predictor_var = ['LoanAmount_log','Credit_History','Dependents','Property_Area','Married','Education']\n",
    "classification_model(model, blind, predictor_var, outcome_var)"
   ]
  },
  {
   "cell_type": "code",
   "execution_count": null,
   "metadata": {},
   "outputs": [],
   "source": []
  },
  {
   "cell_type": "code",
   "execution_count": 136,
   "metadata": {},
   "outputs": [],
   "source": [
    "# konklúzió\n",
    "# ha random mintavételezést csinálunk az adathalmazon, illetve ha változtatunk a tanítás és tesztelés arányán\n",
    "# az eredetihez képest , akkor csak romlik a teljesítmény\n",
    "\n",
    "# legjobb eredmény - eredeti train & test + logistic regression 5prediktor alapján"
   ]
  },
  {
   "cell_type": "code",
   "execution_count": null,
   "metadata": {},
   "outputs": [],
   "source": []
  },
  {
   "cell_type": "code",
   "execution_count": null,
   "metadata": {},
   "outputs": [],
   "source": []
  }
 ],
 "metadata": {
  "kernelspec": {
   "display_name": "Python 3",
   "language": "python",
   "name": "python3"
  },
  "language_info": {
   "codemirror_mode": {
    "name": "ipython",
    "version": 3
   },
   "file_extension": ".py",
   "mimetype": "text/x-python",
   "name": "python",
   "nbconvert_exporter": "python",
   "pygments_lexer": "ipython3",
   "version": "3.8.3"
  }
 },
 "nbformat": 4,
 "nbformat_minor": 4
}
